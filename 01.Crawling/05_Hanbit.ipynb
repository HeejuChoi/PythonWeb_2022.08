{
  "nbformat": 4,
  "nbformat_minor": 0,
  "metadata": {
    "colab": {
      "name": "05_Hanbit.ipynb",
      "provenance": []
    },
    "kernelspec": {
      "name": "python3",
      "display_name": "Python 3"
    },
    "language_info": {
      "name": "python"
    },
    "widgets": {
      "application/vnd.jupyter.widget-state+json": {
        "ea3ff928134b48fcb3ea29d8a711dac8": {
          "model_module": "@jupyter-widgets/controls",
          "model_name": "HBoxModel",
          "model_module_version": "1.5.0",
          "state": {
            "_dom_classes": [],
            "_model_module": "@jupyter-widgets/controls",
            "_model_module_version": "1.5.0",
            "_model_name": "HBoxModel",
            "_view_count": null,
            "_view_module": "@jupyter-widgets/controls",
            "_view_module_version": "1.5.0",
            "_view_name": "HBoxView",
            "box_style": "",
            "children": [
              "IPY_MODEL_951b66a705d0465196958b9b6f29307c",
              "IPY_MODEL_b895913326ee4c97ae97f618afbae003",
              "IPY_MODEL_ec4ecc3968b54566b3e343bb328dbb29"
            ],
            "layout": "IPY_MODEL_2e5a6f85f008440fa2400e9011e9da4f"
          }
        },
        "951b66a705d0465196958b9b6f29307c": {
          "model_module": "@jupyter-widgets/controls",
          "model_name": "HTMLModel",
          "model_module_version": "1.5.0",
          "state": {
            "_dom_classes": [],
            "_model_module": "@jupyter-widgets/controls",
            "_model_module_version": "1.5.0",
            "_model_name": "HTMLModel",
            "_view_count": null,
            "_view_module": "@jupyter-widgets/controls",
            "_view_module_version": "1.5.0",
            "_view_name": "HTMLView",
            "description": "",
            "description_tooltip": null,
            "layout": "IPY_MODEL_3b06614a65584060a7d7c1d277212786",
            "placeholder": "​",
            "style": "IPY_MODEL_66ebc5116d1b49009ada6d7479178ecc",
            "value": "100%"
          }
        },
        "b895913326ee4c97ae97f618afbae003": {
          "model_module": "@jupyter-widgets/controls",
          "model_name": "FloatProgressModel",
          "model_module_version": "1.5.0",
          "state": {
            "_dom_classes": [],
            "_model_module": "@jupyter-widgets/controls",
            "_model_module_version": "1.5.0",
            "_model_name": "FloatProgressModel",
            "_view_count": null,
            "_view_module": "@jupyter-widgets/controls",
            "_view_module_version": "1.5.0",
            "_view_name": "ProgressView",
            "bar_style": "success",
            "description": "",
            "description_tooltip": null,
            "layout": "IPY_MODEL_f2d1d4f7b90f4c2590908814f32cdbe4",
            "max": 10,
            "min": 0,
            "orientation": "horizontal",
            "style": "IPY_MODEL_55c2d56c94a44b0aac55b21dc7b02417",
            "value": 10
          }
        },
        "ec4ecc3968b54566b3e343bb328dbb29": {
          "model_module": "@jupyter-widgets/controls",
          "model_name": "HTMLModel",
          "model_module_version": "1.5.0",
          "state": {
            "_dom_classes": [],
            "_model_module": "@jupyter-widgets/controls",
            "_model_module_version": "1.5.0",
            "_model_name": "HTMLModel",
            "_view_count": null,
            "_view_module": "@jupyter-widgets/controls",
            "_view_module_version": "1.5.0",
            "_view_name": "HTMLView",
            "description": "",
            "description_tooltip": null,
            "layout": "IPY_MODEL_e4fd2e13cb6342c1a8cfe73ccbacba09",
            "placeholder": "​",
            "style": "IPY_MODEL_e2fbf534d2424991902086fc90a8fb6b",
            "value": " 10/10 [05:36&lt;00:00, 33.07s/it]"
          }
        },
        "2e5a6f85f008440fa2400e9011e9da4f": {
          "model_module": "@jupyter-widgets/base",
          "model_name": "LayoutModel",
          "model_module_version": "1.2.0",
          "state": {
            "_model_module": "@jupyter-widgets/base",
            "_model_module_version": "1.2.0",
            "_model_name": "LayoutModel",
            "_view_count": null,
            "_view_module": "@jupyter-widgets/base",
            "_view_module_version": "1.2.0",
            "_view_name": "LayoutView",
            "align_content": null,
            "align_items": null,
            "align_self": null,
            "border": null,
            "bottom": null,
            "display": null,
            "flex": null,
            "flex_flow": null,
            "grid_area": null,
            "grid_auto_columns": null,
            "grid_auto_flow": null,
            "grid_auto_rows": null,
            "grid_column": null,
            "grid_gap": null,
            "grid_row": null,
            "grid_template_areas": null,
            "grid_template_columns": null,
            "grid_template_rows": null,
            "height": null,
            "justify_content": null,
            "justify_items": null,
            "left": null,
            "margin": null,
            "max_height": null,
            "max_width": null,
            "min_height": null,
            "min_width": null,
            "object_fit": null,
            "object_position": null,
            "order": null,
            "overflow": null,
            "overflow_x": null,
            "overflow_y": null,
            "padding": null,
            "right": null,
            "top": null,
            "visibility": null,
            "width": null
          }
        },
        "3b06614a65584060a7d7c1d277212786": {
          "model_module": "@jupyter-widgets/base",
          "model_name": "LayoutModel",
          "model_module_version": "1.2.0",
          "state": {
            "_model_module": "@jupyter-widgets/base",
            "_model_module_version": "1.2.0",
            "_model_name": "LayoutModel",
            "_view_count": null,
            "_view_module": "@jupyter-widgets/base",
            "_view_module_version": "1.2.0",
            "_view_name": "LayoutView",
            "align_content": null,
            "align_items": null,
            "align_self": null,
            "border": null,
            "bottom": null,
            "display": null,
            "flex": null,
            "flex_flow": null,
            "grid_area": null,
            "grid_auto_columns": null,
            "grid_auto_flow": null,
            "grid_auto_rows": null,
            "grid_column": null,
            "grid_gap": null,
            "grid_row": null,
            "grid_template_areas": null,
            "grid_template_columns": null,
            "grid_template_rows": null,
            "height": null,
            "justify_content": null,
            "justify_items": null,
            "left": null,
            "margin": null,
            "max_height": null,
            "max_width": null,
            "min_height": null,
            "min_width": null,
            "object_fit": null,
            "object_position": null,
            "order": null,
            "overflow": null,
            "overflow_x": null,
            "overflow_y": null,
            "padding": null,
            "right": null,
            "top": null,
            "visibility": null,
            "width": null
          }
        },
        "66ebc5116d1b49009ada6d7479178ecc": {
          "model_module": "@jupyter-widgets/controls",
          "model_name": "DescriptionStyleModel",
          "model_module_version": "1.5.0",
          "state": {
            "_model_module": "@jupyter-widgets/controls",
            "_model_module_version": "1.5.0",
            "_model_name": "DescriptionStyleModel",
            "_view_count": null,
            "_view_module": "@jupyter-widgets/base",
            "_view_module_version": "1.2.0",
            "_view_name": "StyleView",
            "description_width": ""
          }
        },
        "f2d1d4f7b90f4c2590908814f32cdbe4": {
          "model_module": "@jupyter-widgets/base",
          "model_name": "LayoutModel",
          "model_module_version": "1.2.0",
          "state": {
            "_model_module": "@jupyter-widgets/base",
            "_model_module_version": "1.2.0",
            "_model_name": "LayoutModel",
            "_view_count": null,
            "_view_module": "@jupyter-widgets/base",
            "_view_module_version": "1.2.0",
            "_view_name": "LayoutView",
            "align_content": null,
            "align_items": null,
            "align_self": null,
            "border": null,
            "bottom": null,
            "display": null,
            "flex": null,
            "flex_flow": null,
            "grid_area": null,
            "grid_auto_columns": null,
            "grid_auto_flow": null,
            "grid_auto_rows": null,
            "grid_column": null,
            "grid_gap": null,
            "grid_row": null,
            "grid_template_areas": null,
            "grid_template_columns": null,
            "grid_template_rows": null,
            "height": null,
            "justify_content": null,
            "justify_items": null,
            "left": null,
            "margin": null,
            "max_height": null,
            "max_width": null,
            "min_height": null,
            "min_width": null,
            "object_fit": null,
            "object_position": null,
            "order": null,
            "overflow": null,
            "overflow_x": null,
            "overflow_y": null,
            "padding": null,
            "right": null,
            "top": null,
            "visibility": null,
            "width": null
          }
        },
        "55c2d56c94a44b0aac55b21dc7b02417": {
          "model_module": "@jupyter-widgets/controls",
          "model_name": "ProgressStyleModel",
          "model_module_version": "1.5.0",
          "state": {
            "_model_module": "@jupyter-widgets/controls",
            "_model_module_version": "1.5.0",
            "_model_name": "ProgressStyleModel",
            "_view_count": null,
            "_view_module": "@jupyter-widgets/base",
            "_view_module_version": "1.2.0",
            "_view_name": "StyleView",
            "bar_color": null,
            "description_width": ""
          }
        },
        "e4fd2e13cb6342c1a8cfe73ccbacba09": {
          "model_module": "@jupyter-widgets/base",
          "model_name": "LayoutModel",
          "model_module_version": "1.2.0",
          "state": {
            "_model_module": "@jupyter-widgets/base",
            "_model_module_version": "1.2.0",
            "_model_name": "LayoutModel",
            "_view_count": null,
            "_view_module": "@jupyter-widgets/base",
            "_view_module_version": "1.2.0",
            "_view_name": "LayoutView",
            "align_content": null,
            "align_items": null,
            "align_self": null,
            "border": null,
            "bottom": null,
            "display": null,
            "flex": null,
            "flex_flow": null,
            "grid_area": null,
            "grid_auto_columns": null,
            "grid_auto_flow": null,
            "grid_auto_rows": null,
            "grid_column": null,
            "grid_gap": null,
            "grid_row": null,
            "grid_template_areas": null,
            "grid_template_columns": null,
            "grid_template_rows": null,
            "height": null,
            "justify_content": null,
            "justify_items": null,
            "left": null,
            "margin": null,
            "max_height": null,
            "max_width": null,
            "min_height": null,
            "min_width": null,
            "object_fit": null,
            "object_position": null,
            "order": null,
            "overflow": null,
            "overflow_x": null,
            "overflow_y": null,
            "padding": null,
            "right": null,
            "top": null,
            "visibility": null,
            "width": null
          }
        },
        "e2fbf534d2424991902086fc90a8fb6b": {
          "model_module": "@jupyter-widgets/controls",
          "model_name": "DescriptionStyleModel",
          "model_module_version": "1.5.0",
          "state": {
            "_model_module": "@jupyter-widgets/controls",
            "_model_module_version": "1.5.0",
            "_model_name": "DescriptionStyleModel",
            "_view_count": null,
            "_view_module": "@jupyter-widgets/base",
            "_view_module_version": "1.2.0",
            "_view_name": "StyleView",
            "description_width": ""
          }
        }
      }
    }
  },
  "cells": [
    {
      "cell_type": "markdown",
      "source": [
        "# 한빛아카데미 - 새로나온책 10 페이지\n",
        "- https://www.hanbit.co.kr/academy/books/new_book_list.html\n",
        "- 제목, 저자, 출간일, 쪽수, 가격, 역자"
      ],
      "metadata": {
        "id": "IG4p4_QoNwdg"
      }
    },
    {
      "cell_type": "code",
      "source": [
        "import requests\n",
        "import pandas as pd\n",
        "from bs4 import BeautifulSoup\n",
        "from tqdm.notebook import tqdm #진척도를 알려주는 것 "
      ],
      "metadata": {
        "id": "b2J1M9byN_Lj"
      },
      "execution_count": 27,
      "outputs": []
    },
    {
      "cell_type": "code",
      "execution_count": 28,
      "metadata": {
        "id": "QYZhK5mzNpgL"
      },
      "outputs": [],
      "source": [
        "base_url = 'https://www.hanbit.co.kr'\n",
        "sub_url = '/academy/books/new_book_list.html'\n",
        "url = base_url + sub_url + '?page=' + str(1)\n",
        "req = requests.get(url)\n",
        "soup = BeautifulSoup(req.text, 'html.parser')"
      ]
    },
    {
      "cell_type": "markdown",
      "source": [
        "### 1. 찾으려고 하는 목록 데이터 "
      ],
      "metadata": {
        "id": "CmTyBpI4ScAS"
      }
    },
    {
      "cell_type": "code",
      "source": [
        "lis = soup.select('li.sub_book_list')\n",
        "len(lis)"
      ],
      "metadata": {
        "colab": {
          "base_uri": "https://localhost:8080/"
        },
        "id": "f148N6qkR1Pa",
        "outputId": "a3338243-44be-412f-d8c2-aaa002b46191"
      },
      "execution_count": 29,
      "outputs": [
        {
          "output_type": "execute_result",
          "data": {
            "text/plain": [
              "20"
            ]
          },
          "metadata": {},
          "execution_count": 29
        }
      ]
    },
    {
      "cell_type": "markdown",
      "source": [
        "### 2. 하나의 데이터로 원하는 정보 추출"
      ],
      "metadata": {
        "id": "cF3HejFlSeV7"
      }
    },
    {
      "cell_type": "code",
      "source": [
        "li = lis[0]\n",
        "href = li.find('a')['href']\n",
        "href"
      ],
      "metadata": {
        "colab": {
          "base_uri": "https://localhost:8080/",
          "height": 36
        },
        "id": "Xdr6L8fQRbPK",
        "outputId": "734322e8-fe91-47b0-c9ca-68479ebcdc33"
      },
      "execution_count": 30,
      "outputs": [
        {
          "output_type": "execute_result",
          "data": {
            "text/plain": [
              "'/academy/books/book_view.html?p_code=B8672666879'"
            ],
            "application/vnd.google.colaboratory.intrinsic+json": {
              "type": "string"
            }
          },
          "metadata": {},
          "execution_count": 30
        }
      ]
    },
    {
      "cell_type": "markdown",
      "source": [
        "- sub page로 이동하여 원하는 정보 추출"
      ],
      "metadata": {
        "id": "S9GrHEWyTQZq"
      }
    },
    {
      "cell_type": "code",
      "source": [
        "sub_req = requests.get(base_url + href)\n",
        "sub_soup = BeautifulSoup(sub_req.text,'html.parser')"
      ],
      "metadata": {
        "id": "OnN1RKn3TMVT"
      },
      "execution_count": 31,
      "outputs": []
    },
    {
      "cell_type": "code",
      "source": [
        "title = sub_soup.select_one('.store_product_info_box > h3').get_text().strip()\n",
        "title"
      ],
      "metadata": {
        "colab": {
          "base_uri": "https://localhost:8080/",
          "height": 36
        },
        "id": "-XDVN4-WUiV5",
        "outputId": "23fa8979-308d-40ca-9d5a-cdfbbcb6a619"
      },
      "execution_count": 32,
      "outputs": [
        {
          "output_type": "execute_result",
          "data": {
            "text/plain": [
              "'STEM CookBook, 문제 해결력을 키우는 기계설계'"
            ],
            "application/vnd.google.colaboratory.intrinsic+json": {
              "type": "string"
            }
          },
          "metadata": {},
          "execution_count": 32
        }
      ]
    },
    {
      "cell_type": "code",
      "source": [
        "info_lis = sub_soup.select('.info_list > li')\n",
        "info_dict = {}\n",
        "for li in info_lis:\n",
        "  key = li.find('strong').get_text().split(' ')[0]\n",
        "  val = li.find('span').get_text().strip()\n",
        "  info_dict[key] =val\n",
        "\n",
        "info_dict"
      ],
      "metadata": {
        "colab": {
          "base_uri": "https://localhost:8080/"
        },
        "id": "ckstGCtoTt_A",
        "outputId": "f94a281a-49a2-4793-a393-c38d05e81581"
      },
      "execution_count": 33,
      "outputs": [
        {
          "output_type": "execute_result",
          "data": {
            "text/plain": [
              "{'ISBN': '9791156646150',\n",
              " '물류코드': '4615',\n",
              " '저자': '이상범',\n",
              " '출간': '2022-08-05',\n",
              " '페이지': '680 쪽'}"
            ]
          },
          "metadata": {},
          "execution_count": 33
        }
      ]
    },
    {
      "cell_type": "code",
      "source": [
        "author = info_dict['저자']\n",
        "try:\n",
        "    translator = info_dict['번역']\n",
        "except:\n",
        "    translator = '-'\n",
        "date = info_dict['출간']\n",
        "page = int(info_dict['페이지'].split(' ')[0].replace(',', ''))\n",
        "author, translator, date, page"
      ],
      "metadata": {
        "colab": {
          "base_uri": "https://localhost:8080/"
        },
        "id": "ZWHG1wV0WURS",
        "outputId": "cf9ed873-753a-4183-9801-f88dd243d68b"
      },
      "execution_count": 34,
      "outputs": [
        {
          "output_type": "execute_result",
          "data": {
            "text/plain": [
              "('이상범', '-', '2022-08-05', 680)"
            ]
          },
          "metadata": {},
          "execution_count": 34
        }
      ]
    },
    {
      "cell_type": "code",
      "source": [
        "# 가격정보\n",
        "price = int(sub_soup.select_one('.pbr > strong').get_text().replace(',', ''))\n",
        "price"
      ],
      "metadata": {
        "colab": {
          "base_uri": "https://localhost:8080/"
        },
        "id": "rzEFy_SxVzAh",
        "outputId": "afae10df-c31b-4e12-e3ef-9adf28f109a7"
      },
      "execution_count": 35,
      "outputs": [
        {
          "output_type": "execute_result",
          "data": {
            "text/plain": [
              "34000"
            ]
          },
          "metadata": {},
          "execution_count": 35
        }
      ]
    },
    {
      "cell_type": "markdown",
      "source": [
        "### 3. 한 페이지내의 모든 정보 가져오기"
      ],
      "metadata": {
        "id": "cI4k8uoUdHeX"
      }
    },
    {
      "cell_type": "code",
      "source": [
        "lines = []\n",
        "for li in lis:\n",
        "    href = li.find('a')['href']\n",
        "    sub_req = requests.get(base_url + href)\n",
        "    sub_soup = BeautifulSoup(sub_req.text,'html.parser')\n",
        "\n",
        "    title = sub_soup.select_one('.store_product_info_box > h3').get_text().strip()\n",
        "    info_lis = sub_soup.select('.info_list > li')\n",
        "    info_dict = {}\n",
        "    for li in info_lis:\n",
        "        key = li.find('strong').get_text().split(' ')[0]\n",
        "        val = li.find('span').get_text().strip()\n",
        "        info_dict[key] =val\n",
        "\n",
        "    author = info_dict['저자']\n",
        "    try:\n",
        "        translator = info_dict['번역']\n",
        "    except:\n",
        "        translator = '-'\n",
        "    date = info_dict['출간']\n",
        "    page = int(info_dict['페이지'].split(' ')[0].replace(',', ''))\n",
        "    price = int(sub_soup.select_one('.pbr > strong').get_text().replace(',', ''))\n",
        "    lines.append([title, author,translator, date, page, price])"
      ],
      "metadata": {
        "id": "hokJr9U-dOPx"
      },
      "execution_count": 41,
      "outputs": []
    },
    {
      "cell_type": "markdown",
      "source": [
        "### 4. 데이터프레임으로 만들고 확인하기\n"
      ],
      "metadata": {
        "id": "cSTZVVzLf5TI"
      }
    },
    {
      "cell_type": "code",
      "source": [
        "df = pd.DataFrame(lines, columns=['제목','저자','번역','출간일','쪽수','판매가'])\n",
        "df"
      ],
      "metadata": {
        "colab": {
          "base_uri": "https://localhost:8080/",
          "height": 1000
        },
        "id": "kXFH7XoWeZwX",
        "outputId": "d954a899-4376-4ab1-bb74-81f9adc48d8e"
      },
      "execution_count": 43,
      "outputs": [
        {
          "output_type": "execute_result",
          "data": {
            "text/plain": [
              "                                          제목  \\\n",
              "0                                포르잔 C++ 에센셜   \n",
              "1                       플랫폼 비즈니스를 위한 경영정보시스템   \n",
              "2   IT CookBook, 액세스 2019로 배우는 데이터베이스 기초와 실습   \n",
              "3                         뉴 머신시대의 기업가정신을 찾아서   \n",
              "4                        세계화와 지역화 : 한국의 선택은?   \n",
              "5                                포르잔 C++ 바이블   \n",
              "6                             4차산업혁명시대의 창업실무   \n",
              "7                              딥러닝을 위한 선형대수학   \n",
              "8    IT CookBook, 오라클로 배우는 데이터베이스 개론과 실습(2판)   \n",
              "9                             대학을 버려야 대학이 산다   \n",
              "10             IT CookBook, 따라 하면서 배우는 사물인터넷   \n",
              "11           R로 하는 다변량 데이터 분석 : 이론부터 실무 활용까지   \n",
              "12                              창의적 공학설계(3판)   \n",
              "13           공학 핵심수학(2판)  : 기초부터 심화까지 핵심만 쏙쏙   \n",
              "14    응용이 보이는 선형대수학 : 파이썬과 함께하는 선형대수학 이론과 응용   \n",
              "15          IT CookBook, 초연결 사회의 데이터통신과 네트워킹   \n",
              "16         IT CookBook, 쉽게 배우는 MFC 윈도우 프로그래밍   \n",
              "17        IT CookBook, 인공지능 시대를 위한 컴퓨터 과학 개론   \n",
              "18         IT CookBook, 코틀린을 활용한 안드로이드 프로그래밍   \n",
              "19                IT CookBook, 처음 만나는 신재생에너지   \n",
              "\n",
              "                                          저자                    번역  \\\n",
              "0   Behrouz A. Forouzan , Richard F. Gilberg                   윤인성   \n",
              "1                            정창근 , 김종락 , 김시영                     -   \n",
              "2                                        김지연                     -   \n",
              "3                                        이건창                     -   \n",
              "4                                        황해두                     -   \n",
              "5   Behrouz A. Forouzan , Richard F. Gilberg                   윤인성   \n",
              "6                                  조보상 , 윤두열                     -   \n",
              "7                             Gilbert Strang  부산대학교 산업수학센터(FFMIMC)   \n",
              "8                            박우창 , 남송휘 , 이현룡                     -   \n",
              "9                        조동성 외 인천대학교 가족 178명                     -   \n",
              "10                                       양재삼                     -   \n",
              "11             카와하시 잇코 , 이와마 노리카즈 , 스즈키 마사유키                   권기태   \n",
              "12                                       김은경                     -   \n",
              "13                                       함남우                     -   \n",
              "14                                       이건명                     -   \n",
              "15                                       강문식                     -   \n",
              "16                                 김선우 , 신화선                     -   \n",
              "17                                       정기철                     -   \n",
              "18                                 우재남 , 유혜림                     -   \n",
              "19                                       김지홍                     -   \n",
              "\n",
              "           출간일    쪽수    판매가  \n",
              "0   2020-11-10   756  32000  \n",
              "1   2020-10-20   522  29000  \n",
              "2   2020-09-28   536  28000  \n",
              "3   2020-09-20   180  18000  \n",
              "4   2020-09-10   256  17000  \n",
              "5   2020-08-31  1192  45000  \n",
              "6   2020-08-26   468  28000  \n",
              "7   2020-08-05   560  38000  \n",
              "8   2020-07-30   600  29000  \n",
              "9   2020-07-25   216  18000  \n",
              "10  2020-07-23   448  28000  \n",
              "11  2020-07-10   544  32000  \n",
              "12  2020-07-10   408  23000  \n",
              "13  2020-07-06   484  23000  \n",
              "14  2020-07-06   592  31000  \n",
              "15  2020-06-30   504  29000  \n",
              "16  2020-06-20   772  30000  \n",
              "17  2020-06-19   520  27000  \n",
              "18  2020-06-19   564  34000  \n",
              "19  2020-06-10   388  25000  "
            ],
            "text/html": [
              "\n",
              "  <div id=\"df-dd563aa9-02ec-4e7b-8438-bd5177d47608\">\n",
              "    <div class=\"colab-df-container\">\n",
              "      <div>\n",
              "<style scoped>\n",
              "    .dataframe tbody tr th:only-of-type {\n",
              "        vertical-align: middle;\n",
              "    }\n",
              "\n",
              "    .dataframe tbody tr th {\n",
              "        vertical-align: top;\n",
              "    }\n",
              "\n",
              "    .dataframe thead th {\n",
              "        text-align: right;\n",
              "    }\n",
              "</style>\n",
              "<table border=\"1\" class=\"dataframe\">\n",
              "  <thead>\n",
              "    <tr style=\"text-align: right;\">\n",
              "      <th></th>\n",
              "      <th>제목</th>\n",
              "      <th>저자</th>\n",
              "      <th>번역</th>\n",
              "      <th>출간일</th>\n",
              "      <th>쪽수</th>\n",
              "      <th>판매가</th>\n",
              "    </tr>\n",
              "  </thead>\n",
              "  <tbody>\n",
              "    <tr>\n",
              "      <th>0</th>\n",
              "      <td>포르잔 C++ 에센셜</td>\n",
              "      <td>Behrouz A. Forouzan , Richard F. Gilberg</td>\n",
              "      <td>윤인성</td>\n",
              "      <td>2020-11-10</td>\n",
              "      <td>756</td>\n",
              "      <td>32000</td>\n",
              "    </tr>\n",
              "    <tr>\n",
              "      <th>1</th>\n",
              "      <td>플랫폼 비즈니스를 위한 경영정보시스템</td>\n",
              "      <td>정창근 , 김종락 , 김시영</td>\n",
              "      <td>-</td>\n",
              "      <td>2020-10-20</td>\n",
              "      <td>522</td>\n",
              "      <td>29000</td>\n",
              "    </tr>\n",
              "    <tr>\n",
              "      <th>2</th>\n",
              "      <td>IT CookBook, 액세스 2019로 배우는 데이터베이스 기초와 실습</td>\n",
              "      <td>김지연</td>\n",
              "      <td>-</td>\n",
              "      <td>2020-09-28</td>\n",
              "      <td>536</td>\n",
              "      <td>28000</td>\n",
              "    </tr>\n",
              "    <tr>\n",
              "      <th>3</th>\n",
              "      <td>뉴 머신시대의 기업가정신을 찾아서</td>\n",
              "      <td>이건창</td>\n",
              "      <td>-</td>\n",
              "      <td>2020-09-20</td>\n",
              "      <td>180</td>\n",
              "      <td>18000</td>\n",
              "    </tr>\n",
              "    <tr>\n",
              "      <th>4</th>\n",
              "      <td>세계화와 지역화 : 한국의 선택은?</td>\n",
              "      <td>황해두</td>\n",
              "      <td>-</td>\n",
              "      <td>2020-09-10</td>\n",
              "      <td>256</td>\n",
              "      <td>17000</td>\n",
              "    </tr>\n",
              "    <tr>\n",
              "      <th>5</th>\n",
              "      <td>포르잔 C++ 바이블</td>\n",
              "      <td>Behrouz A. Forouzan , Richard F. Gilberg</td>\n",
              "      <td>윤인성</td>\n",
              "      <td>2020-08-31</td>\n",
              "      <td>1192</td>\n",
              "      <td>45000</td>\n",
              "    </tr>\n",
              "    <tr>\n",
              "      <th>6</th>\n",
              "      <td>4차산업혁명시대의 창업실무</td>\n",
              "      <td>조보상 , 윤두열</td>\n",
              "      <td>-</td>\n",
              "      <td>2020-08-26</td>\n",
              "      <td>468</td>\n",
              "      <td>28000</td>\n",
              "    </tr>\n",
              "    <tr>\n",
              "      <th>7</th>\n",
              "      <td>딥러닝을 위한 선형대수학</td>\n",
              "      <td>Gilbert Strang</td>\n",
              "      <td>부산대학교 산업수학센터(FFMIMC)</td>\n",
              "      <td>2020-08-05</td>\n",
              "      <td>560</td>\n",
              "      <td>38000</td>\n",
              "    </tr>\n",
              "    <tr>\n",
              "      <th>8</th>\n",
              "      <td>IT CookBook, 오라클로 배우는 데이터베이스 개론과 실습(2판)</td>\n",
              "      <td>박우창 , 남송휘 , 이현룡</td>\n",
              "      <td>-</td>\n",
              "      <td>2020-07-30</td>\n",
              "      <td>600</td>\n",
              "      <td>29000</td>\n",
              "    </tr>\n",
              "    <tr>\n",
              "      <th>9</th>\n",
              "      <td>대학을 버려야 대학이 산다</td>\n",
              "      <td>조동성 외 인천대학교 가족 178명</td>\n",
              "      <td>-</td>\n",
              "      <td>2020-07-25</td>\n",
              "      <td>216</td>\n",
              "      <td>18000</td>\n",
              "    </tr>\n",
              "    <tr>\n",
              "      <th>10</th>\n",
              "      <td>IT CookBook, 따라 하면서 배우는 사물인터넷</td>\n",
              "      <td>양재삼</td>\n",
              "      <td>-</td>\n",
              "      <td>2020-07-23</td>\n",
              "      <td>448</td>\n",
              "      <td>28000</td>\n",
              "    </tr>\n",
              "    <tr>\n",
              "      <th>11</th>\n",
              "      <td>R로 하는 다변량 데이터 분석 : 이론부터 실무 활용까지</td>\n",
              "      <td>카와하시 잇코 , 이와마 노리카즈 , 스즈키 마사유키</td>\n",
              "      <td>권기태</td>\n",
              "      <td>2020-07-10</td>\n",
              "      <td>544</td>\n",
              "      <td>32000</td>\n",
              "    </tr>\n",
              "    <tr>\n",
              "      <th>12</th>\n",
              "      <td>창의적 공학설계(3판)</td>\n",
              "      <td>김은경</td>\n",
              "      <td>-</td>\n",
              "      <td>2020-07-10</td>\n",
              "      <td>408</td>\n",
              "      <td>23000</td>\n",
              "    </tr>\n",
              "    <tr>\n",
              "      <th>13</th>\n",
              "      <td>공학 핵심수학(2판)  : 기초부터 심화까지 핵심만 쏙쏙</td>\n",
              "      <td>함남우</td>\n",
              "      <td>-</td>\n",
              "      <td>2020-07-06</td>\n",
              "      <td>484</td>\n",
              "      <td>23000</td>\n",
              "    </tr>\n",
              "    <tr>\n",
              "      <th>14</th>\n",
              "      <td>응용이 보이는 선형대수학 : 파이썬과 함께하는 선형대수학 이론과 응용</td>\n",
              "      <td>이건명</td>\n",
              "      <td>-</td>\n",
              "      <td>2020-07-06</td>\n",
              "      <td>592</td>\n",
              "      <td>31000</td>\n",
              "    </tr>\n",
              "    <tr>\n",
              "      <th>15</th>\n",
              "      <td>IT CookBook, 초연결 사회의 데이터통신과 네트워킹</td>\n",
              "      <td>강문식</td>\n",
              "      <td>-</td>\n",
              "      <td>2020-06-30</td>\n",
              "      <td>504</td>\n",
              "      <td>29000</td>\n",
              "    </tr>\n",
              "    <tr>\n",
              "      <th>16</th>\n",
              "      <td>IT CookBook, 쉽게 배우는 MFC 윈도우 프로그래밍</td>\n",
              "      <td>김선우 , 신화선</td>\n",
              "      <td>-</td>\n",
              "      <td>2020-06-20</td>\n",
              "      <td>772</td>\n",
              "      <td>30000</td>\n",
              "    </tr>\n",
              "    <tr>\n",
              "      <th>17</th>\n",
              "      <td>IT CookBook, 인공지능 시대를 위한 컴퓨터 과학 개론</td>\n",
              "      <td>정기철</td>\n",
              "      <td>-</td>\n",
              "      <td>2020-06-19</td>\n",
              "      <td>520</td>\n",
              "      <td>27000</td>\n",
              "    </tr>\n",
              "    <tr>\n",
              "      <th>18</th>\n",
              "      <td>IT CookBook, 코틀린을 활용한 안드로이드 프로그래밍</td>\n",
              "      <td>우재남 , 유혜림</td>\n",
              "      <td>-</td>\n",
              "      <td>2020-06-19</td>\n",
              "      <td>564</td>\n",
              "      <td>34000</td>\n",
              "    </tr>\n",
              "    <tr>\n",
              "      <th>19</th>\n",
              "      <td>IT CookBook, 처음 만나는 신재생에너지</td>\n",
              "      <td>김지홍</td>\n",
              "      <td>-</td>\n",
              "      <td>2020-06-10</td>\n",
              "      <td>388</td>\n",
              "      <td>25000</td>\n",
              "    </tr>\n",
              "  </tbody>\n",
              "</table>\n",
              "</div>\n",
              "      <button class=\"colab-df-convert\" onclick=\"convertToInteractive('df-dd563aa9-02ec-4e7b-8438-bd5177d47608')\"\n",
              "              title=\"Convert this dataframe to an interactive table.\"\n",
              "              style=\"display:none;\">\n",
              "        \n",
              "  <svg xmlns=\"http://www.w3.org/2000/svg\" height=\"24px\"viewBox=\"0 0 24 24\"\n",
              "       width=\"24px\">\n",
              "    <path d=\"M0 0h24v24H0V0z\" fill=\"none\"/>\n",
              "    <path d=\"M18.56 5.44l.94 2.06.94-2.06 2.06-.94-2.06-.94-.94-2.06-.94 2.06-2.06.94zm-11 1L8.5 8.5l.94-2.06 2.06-.94-2.06-.94L8.5 2.5l-.94 2.06-2.06.94zm10 10l.94 2.06.94-2.06 2.06-.94-2.06-.94-.94-2.06-.94 2.06-2.06.94z\"/><path d=\"M17.41 7.96l-1.37-1.37c-.4-.4-.92-.59-1.43-.59-.52 0-1.04.2-1.43.59L10.3 9.45l-7.72 7.72c-.78.78-.78 2.05 0 2.83L4 21.41c.39.39.9.59 1.41.59.51 0 1.02-.2 1.41-.59l7.78-7.78 2.81-2.81c.8-.78.8-2.07 0-2.86zM5.41 20L4 18.59l7.72-7.72 1.47 1.35L5.41 20z\"/>\n",
              "  </svg>\n",
              "      </button>\n",
              "      \n",
              "  <style>\n",
              "    .colab-df-container {\n",
              "      display:flex;\n",
              "      flex-wrap:wrap;\n",
              "      gap: 12px;\n",
              "    }\n",
              "\n",
              "    .colab-df-convert {\n",
              "      background-color: #E8F0FE;\n",
              "      border: none;\n",
              "      border-radius: 50%;\n",
              "      cursor: pointer;\n",
              "      display: none;\n",
              "      fill: #1967D2;\n",
              "      height: 32px;\n",
              "      padding: 0 0 0 0;\n",
              "      width: 32px;\n",
              "    }\n",
              "\n",
              "    .colab-df-convert:hover {\n",
              "      background-color: #E2EBFA;\n",
              "      box-shadow: 0px 1px 2px rgba(60, 64, 67, 0.3), 0px 1px 3px 1px rgba(60, 64, 67, 0.15);\n",
              "      fill: #174EA6;\n",
              "    }\n",
              "\n",
              "    [theme=dark] .colab-df-convert {\n",
              "      background-color: #3B4455;\n",
              "      fill: #D2E3FC;\n",
              "    }\n",
              "\n",
              "    [theme=dark] .colab-df-convert:hover {\n",
              "      background-color: #434B5C;\n",
              "      box-shadow: 0px 1px 3px 1px rgba(0, 0, 0, 0.15);\n",
              "      filter: drop-shadow(0px 1px 2px rgba(0, 0, 0, 0.3));\n",
              "      fill: #FFFFFF;\n",
              "    }\n",
              "  </style>\n",
              "\n",
              "      <script>\n",
              "        const buttonEl =\n",
              "          document.querySelector('#df-dd563aa9-02ec-4e7b-8438-bd5177d47608 button.colab-df-convert');\n",
              "        buttonEl.style.display =\n",
              "          google.colab.kernel.accessAllowed ? 'block' : 'none';\n",
              "\n",
              "        async function convertToInteractive(key) {\n",
              "          const element = document.querySelector('#df-dd563aa9-02ec-4e7b-8438-bd5177d47608');\n",
              "          const dataTable =\n",
              "            await google.colab.kernel.invokeFunction('convertToInteractive',\n",
              "                                                     [key], {});\n",
              "          if (!dataTable) return;\n",
              "\n",
              "          const docLinkHtml = 'Like what you see? Visit the ' +\n",
              "            '<a target=\"_blank\" href=https://colab.research.google.com/notebooks/data_table.ipynb>data table notebook</a>'\n",
              "            + ' to learn more about interactive tables.';\n",
              "          element.innerHTML = '';\n",
              "          dataTable['output_type'] = 'display_data';\n",
              "          await google.colab.output.renderOutput(dataTable, element);\n",
              "          const docLink = document.createElement('div');\n",
              "          docLink.innerHTML = docLinkHtml;\n",
              "          element.appendChild(docLink);\n",
              "        }\n",
              "      </script>\n",
              "    </div>\n",
              "  </div>\n",
              "  "
            ]
          },
          "metadata": {},
          "execution_count": 43
        }
      ]
    },
    {
      "cell_type": "markdown",
      "source": [
        "### 5. 10 페이지 정보 가져오기 "
      ],
      "metadata": {
        "id": "qZ5W7eeKeaaV"
      }
    },
    {
      "cell_type": "code",
      "source": [
        "lines = []\n",
        "for page in tqdm(range(1, 11)):\n",
        "    url = base_url + sub_url + '?page=' + str(page)\n",
        "    req = requests.get(url)\n",
        "    soup = BeautifulSoup(req.text, 'html.parser')\n",
        "    lis = soup.select('li.sub_book_list')\n",
        "\n",
        "    for li in lis:\n",
        "        href = li.find('a')['href']\n",
        "        sub_req = requests.get(base_url + href)\n",
        "        sub_soup = BeautifulSoup(sub_req.text,'html.parser')\n",
        "\n",
        "        title = sub_soup.select_one('.store_product_info_box > h3').get_text().strip()\n",
        "        info_lis = sub_soup.select('.info_list > li')\n",
        "        info_dict = {}\n",
        "        for li in info_lis:\n",
        "            key = li.find('strong').get_text().split(' ')[0]\n",
        "            val = li.find('span').get_text().strip()\n",
        "            info_dict[key] =val\n",
        "          \n",
        "        author = info_dict['저자']\n",
        "        try:\n",
        "            translator = info_dict['번역']\n",
        "        except:\n",
        "            translator = '-'\n",
        "        date = info_dict['출간']\n",
        "        page = int(info_dict['페이지'].split(' ')[0].replace(',', ''))\n",
        "        price = int(sub_soup.select_one('.pbr > strong').get_text().replace(',', ''))\n",
        "        lines.append([title, author,translator, date, page, price]) "
      ],
      "metadata": {
        "colab": {
          "base_uri": "https://localhost:8080/",
          "height": 49,
          "referenced_widgets": [
            "ea3ff928134b48fcb3ea29d8a711dac8",
            "951b66a705d0465196958b9b6f29307c",
            "b895913326ee4c97ae97f618afbae003",
            "ec4ecc3968b54566b3e343bb328dbb29",
            "2e5a6f85f008440fa2400e9011e9da4f",
            "3b06614a65584060a7d7c1d277212786",
            "66ebc5116d1b49009ada6d7479178ecc",
            "f2d1d4f7b90f4c2590908814f32cdbe4",
            "55c2d56c94a44b0aac55b21dc7b02417",
            "e4fd2e13cb6342c1a8cfe73ccbacba09",
            "e2fbf534d2424991902086fc90a8fb6b"
          ]
        },
        "id": "k1oN4n2OeaBg",
        "outputId": "b5de52fc-8833-4861-a82f-b064375b21e1"
      },
      "execution_count": 44,
      "outputs": [
        {
          "output_type": "display_data",
          "data": {
            "text/plain": [
              "  0%|          | 0/10 [00:00<?, ?it/s]"
            ],
            "application/vnd.jupyter.widget-view+json": {
              "version_major": 2,
              "version_minor": 0,
              "model_id": "ea3ff928134b48fcb3ea29d8a711dac8"
            }
          },
          "metadata": {}
        }
      ]
    },
    {
      "cell_type": "markdown",
      "source": [
        "### 6. 모든 데이터를 데이터 프레임으로 만들고 저장하기 "
      ],
      "metadata": {
        "id": "ESRyJcXug_2W"
      }
    },
    {
      "cell_type": "code",
      "source": [
        "df = pd.DataFrame(lines, columns=['제목','저자','번역','출간일','쪽수','판매가'])\n",
        "df.tail()"
      ],
      "metadata": {
        "colab": {
          "base_uri": "https://localhost:8080/",
          "height": 206
        },
        "id": "eZMPtTebhDSh",
        "outputId": "95e1f343-6ddd-4a5a-d2ab-f6a615aa9a3d"
      },
      "execution_count": 45,
      "outputs": [
        {
          "output_type": "execute_result",
          "data": {
            "text/plain": [
              "                             제목                     저자         번역         출간일  \\\n",
              "195    IT Cookbook, 처음 만나는 전자회로                    황형수          -  2019-07-10   \n",
              "196            스트랭 미분방정식과 선형대수학         Gilbert Strang  한빛수학교재연구소  2019-07-09   \n",
              "197    IT CookBook, 네트워크 개론(3판)                    진혜진          -  2019-07-05   \n",
              "198  IT CookBook, 텐서플로로 배우는 딥러닝  박혜정 , 석경하 , 심주용 , 황창하          -  2019-06-30   \n",
              "199     IT CookBook, 파워포인트 2016                    김지연          -  2019-06-29   \n",
              "\n",
              "      쪽수    판매가  \n",
              "195  440  24000  \n",
              "196  552  30000  \n",
              "197  516  25000  \n",
              "198  448  27000  \n",
              "199  420  19000  "
            ],
            "text/html": [
              "\n",
              "  <div id=\"df-61a8cf3c-5878-4b18-ae82-0cfa6876ad6a\">\n",
              "    <div class=\"colab-df-container\">\n",
              "      <div>\n",
              "<style scoped>\n",
              "    .dataframe tbody tr th:only-of-type {\n",
              "        vertical-align: middle;\n",
              "    }\n",
              "\n",
              "    .dataframe tbody tr th {\n",
              "        vertical-align: top;\n",
              "    }\n",
              "\n",
              "    .dataframe thead th {\n",
              "        text-align: right;\n",
              "    }\n",
              "</style>\n",
              "<table border=\"1\" class=\"dataframe\">\n",
              "  <thead>\n",
              "    <tr style=\"text-align: right;\">\n",
              "      <th></th>\n",
              "      <th>제목</th>\n",
              "      <th>저자</th>\n",
              "      <th>번역</th>\n",
              "      <th>출간일</th>\n",
              "      <th>쪽수</th>\n",
              "      <th>판매가</th>\n",
              "    </tr>\n",
              "  </thead>\n",
              "  <tbody>\n",
              "    <tr>\n",
              "      <th>195</th>\n",
              "      <td>IT Cookbook, 처음 만나는 전자회로</td>\n",
              "      <td>황형수</td>\n",
              "      <td>-</td>\n",
              "      <td>2019-07-10</td>\n",
              "      <td>440</td>\n",
              "      <td>24000</td>\n",
              "    </tr>\n",
              "    <tr>\n",
              "      <th>196</th>\n",
              "      <td>스트랭 미분방정식과 선형대수학</td>\n",
              "      <td>Gilbert Strang</td>\n",
              "      <td>한빛수학교재연구소</td>\n",
              "      <td>2019-07-09</td>\n",
              "      <td>552</td>\n",
              "      <td>30000</td>\n",
              "    </tr>\n",
              "    <tr>\n",
              "      <th>197</th>\n",
              "      <td>IT CookBook, 네트워크 개론(3판)</td>\n",
              "      <td>진혜진</td>\n",
              "      <td>-</td>\n",
              "      <td>2019-07-05</td>\n",
              "      <td>516</td>\n",
              "      <td>25000</td>\n",
              "    </tr>\n",
              "    <tr>\n",
              "      <th>198</th>\n",
              "      <td>IT CookBook, 텐서플로로 배우는 딥러닝</td>\n",
              "      <td>박혜정 , 석경하 , 심주용 , 황창하</td>\n",
              "      <td>-</td>\n",
              "      <td>2019-06-30</td>\n",
              "      <td>448</td>\n",
              "      <td>27000</td>\n",
              "    </tr>\n",
              "    <tr>\n",
              "      <th>199</th>\n",
              "      <td>IT CookBook, 파워포인트 2016</td>\n",
              "      <td>김지연</td>\n",
              "      <td>-</td>\n",
              "      <td>2019-06-29</td>\n",
              "      <td>420</td>\n",
              "      <td>19000</td>\n",
              "    </tr>\n",
              "  </tbody>\n",
              "</table>\n",
              "</div>\n",
              "      <button class=\"colab-df-convert\" onclick=\"convertToInteractive('df-61a8cf3c-5878-4b18-ae82-0cfa6876ad6a')\"\n",
              "              title=\"Convert this dataframe to an interactive table.\"\n",
              "              style=\"display:none;\">\n",
              "        \n",
              "  <svg xmlns=\"http://www.w3.org/2000/svg\" height=\"24px\"viewBox=\"0 0 24 24\"\n",
              "       width=\"24px\">\n",
              "    <path d=\"M0 0h24v24H0V0z\" fill=\"none\"/>\n",
              "    <path d=\"M18.56 5.44l.94 2.06.94-2.06 2.06-.94-2.06-.94-.94-2.06-.94 2.06-2.06.94zm-11 1L8.5 8.5l.94-2.06 2.06-.94-2.06-.94L8.5 2.5l-.94 2.06-2.06.94zm10 10l.94 2.06.94-2.06 2.06-.94-2.06-.94-.94-2.06-.94 2.06-2.06.94z\"/><path d=\"M17.41 7.96l-1.37-1.37c-.4-.4-.92-.59-1.43-.59-.52 0-1.04.2-1.43.59L10.3 9.45l-7.72 7.72c-.78.78-.78 2.05 0 2.83L4 21.41c.39.39.9.59 1.41.59.51 0 1.02-.2 1.41-.59l7.78-7.78 2.81-2.81c.8-.78.8-2.07 0-2.86zM5.41 20L4 18.59l7.72-7.72 1.47 1.35L5.41 20z\"/>\n",
              "  </svg>\n",
              "      </button>\n",
              "      \n",
              "  <style>\n",
              "    .colab-df-container {\n",
              "      display:flex;\n",
              "      flex-wrap:wrap;\n",
              "      gap: 12px;\n",
              "    }\n",
              "\n",
              "    .colab-df-convert {\n",
              "      background-color: #E8F0FE;\n",
              "      border: none;\n",
              "      border-radius: 50%;\n",
              "      cursor: pointer;\n",
              "      display: none;\n",
              "      fill: #1967D2;\n",
              "      height: 32px;\n",
              "      padding: 0 0 0 0;\n",
              "      width: 32px;\n",
              "    }\n",
              "\n",
              "    .colab-df-convert:hover {\n",
              "      background-color: #E2EBFA;\n",
              "      box-shadow: 0px 1px 2px rgba(60, 64, 67, 0.3), 0px 1px 3px 1px rgba(60, 64, 67, 0.15);\n",
              "      fill: #174EA6;\n",
              "    }\n",
              "\n",
              "    [theme=dark] .colab-df-convert {\n",
              "      background-color: #3B4455;\n",
              "      fill: #D2E3FC;\n",
              "    }\n",
              "\n",
              "    [theme=dark] .colab-df-convert:hover {\n",
              "      background-color: #434B5C;\n",
              "      box-shadow: 0px 1px 3px 1px rgba(0, 0, 0, 0.15);\n",
              "      filter: drop-shadow(0px 1px 2px rgba(0, 0, 0, 0.3));\n",
              "      fill: #FFFFFF;\n",
              "    }\n",
              "  </style>\n",
              "\n",
              "      <script>\n",
              "        const buttonEl =\n",
              "          document.querySelector('#df-61a8cf3c-5878-4b18-ae82-0cfa6876ad6a button.colab-df-convert');\n",
              "        buttonEl.style.display =\n",
              "          google.colab.kernel.accessAllowed ? 'block' : 'none';\n",
              "\n",
              "        async function convertToInteractive(key) {\n",
              "          const element = document.querySelector('#df-61a8cf3c-5878-4b18-ae82-0cfa6876ad6a');\n",
              "          const dataTable =\n",
              "            await google.colab.kernel.invokeFunction('convertToInteractive',\n",
              "                                                     [key], {});\n",
              "          if (!dataTable) return;\n",
              "\n",
              "          const docLinkHtml = 'Like what you see? Visit the ' +\n",
              "            '<a target=\"_blank\" href=https://colab.research.google.com/notebooks/data_table.ipynb>data table notebook</a>'\n",
              "            + ' to learn more about interactive tables.';\n",
              "          element.innerHTML = '';\n",
              "          dataTable['output_type'] = 'display_data';\n",
              "          await google.colab.output.renderOutput(dataTable, element);\n",
              "          const docLink = document.createElement('div');\n",
              "          docLink.innerHTML = docLinkHtml;\n",
              "          element.appendChild(docLink);\n",
              "        }\n",
              "      </script>\n",
              "    </div>\n",
              "  </div>\n",
              "  "
            ]
          },
          "metadata": {},
          "execution_count": 45
        }
      ]
    },
    {
      "cell_type": "code",
      "source": [
        "df.to_csv('한빛신간도서(220808).csv', index=False)"
      ],
      "metadata": {
        "id": "DdSykQCrhPvt"
      },
      "execution_count": 46,
      "outputs": []
    }
  ]
}