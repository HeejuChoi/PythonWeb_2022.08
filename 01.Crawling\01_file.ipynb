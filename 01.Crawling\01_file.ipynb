{
  "nbformat": 4,
  "nbformat_minor": 0,
  "metadata": {
    "colab": {
      "name": "01_file.ipynb",
      "provenance": [],
      "collapsed_sections": [],
      "authorship_tag": "ABX9TyNAiXVLqNRYwnJmhTEzakcC",
      "include_colab_link": true
    },
    "kernelspec": {
      "name": "python3",
      "display_name": "Python 3"
    },
    "language_info": {
      "name": "python"
    }
  },
  "cells": [
    {
      "cell_type": "markdown",
      "metadata": {
        "id": "view-in-github",
        "colab_type": "text"
      },
      "source": [
        "<a href=\"https://colab.research.google.com/github/HeejuChoi/PythonWeb_2022.08/blob/main/01.Crawling%5C01_file.ipynb\" target=\"_parent\"><img src=\"https://colab.research.google.com/assets/colab-badge.svg\" alt=\"Open In Colab\"/></a>"
      ]
    },
    {
      "cell_type": "markdown",
      "source": [
        "# HTML 파일 열어서 원하는 정보 가져오기 \n"
      ],
      "metadata": {
        "id": "f64sS7dSkq8s"
      }
    },
    {
      "cell_type": "code",
      "execution_count": null,
      "metadata": {
        "id": "yjCii8rWkic1"
      },
      "outputs": [],
      "source": [
        "from bs4 import BeautifulSoup\n",
        "with open('example.html') as f:\n",
        "  soup = BeautifulSoup(f,'html.parser')"
      ]
    },
    {
      "cell_type": "markdown",
      "source": [
        "### 1. 태그 정보: find(), find_all()"
      ],
      "metadata": {
        "id": "GRFK_AASqJgb"
      }
    },
    {
      "cell_type": "code",
      "source": [
        "# 첫번째 div 태그의 내용을 가져오기 \n",
        "first_div=soup.find('div')\n",
        "first_div"
      ],
      "metadata": {
        "colab": {
          "base_uri": "https://localhost:8080/"
        },
        "id": "ZsnsrVe1lEu9",
        "outputId": "9382a84f-8371-4cc7-8026-c9b016b4ef72"
      },
      "execution_count": null,
      "outputs": [
        {
          "output_type": "execute_result",
          "data": {
            "text/plain": [
              "<div>\n",
              "<p>a</p>\n",
              "<p>b</p>\n",
              "<p>c</p>\n",
              "</div>"
            ]
          },
          "metadata": {},
          "execution_count": 2
        }
      ]
    },
    {
      "cell_type": "code",
      "source": [
        "# 해당되는 태그를 모두 가져오기 \n",
        "ps = first_div.find_all('p')\n",
        "ps"
      ],
      "metadata": {
        "colab": {
          "base_uri": "https://localhost:8080/"
        },
        "id": "LF8BIH3DpbBq",
        "outputId": "e423e48f-ba64-42fe-f11f-49b151c089c0"
      },
      "execution_count": null,
      "outputs": [
        {
          "output_type": "execute_result",
          "data": {
            "text/plain": [
              "[<p>a</p>, <p>b</p>, <p>c</p>]"
            ]
          },
          "metadata": {},
          "execution_count": 3
        }
      ]
    },
    {
      "cell_type": "code",
      "source": [
        "for ptag in ps:\n",
        "  print(ptag)"
      ],
      "metadata": {
        "colab": {
          "base_uri": "https://localhost:8080/"
        },
        "id": "Q6ENAPU9pvnC",
        "outputId": "bb91fb30-ca25-4953-a446-452560ee2493"
      },
      "execution_count": null,
      "outputs": [
        {
          "output_type": "stream",
          "name": "stdout",
          "text": [
            "<p>a</p>\n",
            "<p>b</p>\n",
            "<p>c</p>\n"
          ]
        }
      ]
    },
    {
      "cell_type": "code",
      "source": [
        "ps[1]"
      ],
      "metadata": {
        "colab": {
          "base_uri": "https://localhost:8080/"
        },
        "id": "A1EF3cTIp7FV",
        "outputId": "9b1d5069-ba9d-4d0e-ec74-3c2992949d29"
      },
      "execution_count": null,
      "outputs": [
        {
          "output_type": "execute_result",
          "data": {
            "text/plain": [
              "<p>b</p>"
            ]
          },
          "metadata": {},
          "execution_count": 5
        }
      ]
    },
    {
      "cell_type": "markdown",
      "source": [
        "### 2. CSS Selector: select_one(), select()"
      ],
      "metadata": {
        "id": "sQFSfgjOqQFR"
      }
    },
    {
      "cell_type": "code",
      "source": [
        "# class 명이 ex_class인 태그의 정보를 가져오기\n",
        "second_div = soup.select_one('.ex_class')\n",
        "second_div"
      ],
      "metadata": {
        "colab": {
          "base_uri": "https://localhost:8080/"
        },
        "id": "OeJ_bwgPqEOe",
        "outputId": "cfc07aea-15aa-4271-f7a2-f2e7f2e3b31b"
      },
      "execution_count": null,
      "outputs": [
        {
          "output_type": "execute_result",
          "data": {
            "text/plain": [
              "<div class=\"ex_class\">\n",
              "<p>1</p>\n",
              "<p>2</p>\n",
              "<p>3</p>\n",
              "</div>"
            ]
          },
          "metadata": {},
          "execution_count": 6
        }
      ]
    },
    {
      "cell_type": "code",
      "source": [
        "# id 값이 ex_id인 태그의 정보를 가져오기 \n",
        "third_div = soup.select_one('#ex_id')\n",
        "third_div"
      ],
      "metadata": {
        "colab": {
          "base_uri": "https://localhost:8080/"
        },
        "id": "49xy5fpkq2RL",
        "outputId": "dd0746a6-f2c8-4255-d74a-0d167cde0187"
      },
      "execution_count": null,
      "outputs": [
        {
          "output_type": "execute_result",
          "data": {
            "text/plain": [
              "<div id=\"ex_id\">\n",
              "<p>X</p>\n",
              "<p>Y</p>\n",
              "<p>Z</p>\n",
              "</div>"
            ]
          },
          "metadata": {},
          "execution_count": 7
        }
      ]
    },
    {
      "cell_type": "code",
      "source": [
        "# div 태그를 모두 가져오기\n",
        "all_divs = soup.select('div')\n",
        "len(all_divs)"
      ],
      "metadata": {
        "colab": {
          "base_uri": "https://localhost:8080/"
        },
        "id": "ftmklIcQrNwi",
        "outputId": "cca7650c-9311-41e2-cc68-52b347ff63e1"
      },
      "execution_count": null,
      "outputs": [
        {
          "output_type": "execute_result",
          "data": {
            "text/plain": [
              "3"
            ]
          },
          "metadata": {},
          "execution_count": 8
        }
      ]
    },
    {
      "cell_type": "code",
      "source": [
        "# 모든 p 태그\n",
        "all_ps = soup.find_all('p')\n",
        "len(all_ps)"
      ],
      "metadata": {
        "colab": {
          "base_uri": "https://localhost:8080/"
        },
        "id": "UcfNvIWOrfbd",
        "outputId": "3101ffef-4c16-4a87-831a-e4450919d9f4"
      },
      "execution_count": null,
      "outputs": [
        {
          "output_type": "execute_result",
          "data": {
            "text/plain": [
              "11"
            ]
          },
          "metadata": {},
          "execution_count": 9
        }
      ]
    },
    {
      "cell_type": "code",
      "source": [
        "# div의 자식인 p 태그\n",
        "div_ps = soup.select('div p')\n",
        "len(div_ps)"
      ],
      "metadata": {
        "colab": {
          "base_uri": "https://localhost:8080/"
        },
        "id": "grgX02GAsSn9",
        "outputId": "c357b8d3-6268-4b32-b883-5ac49b65d957"
      },
      "execution_count": null,
      "outputs": [
        {
          "output_type": "execute_result",
          "data": {
            "text/plain": [
              "9"
            ]
          },
          "metadata": {},
          "execution_count": 10
        }
      ]
    },
    {
      "cell_type": "markdown",
      "source": [
        "### 3. 결과"
      ],
      "metadata": {
        "id": "ZeCNl5Fjsw2A"
      }
    },
    {
      "cell_type": "code",
      "source": [
        "h1_info = soup.find('h1').get_text() #괄호 있음 : 메소드\n",
        "h1_info"
      ],
      "metadata": {
        "colab": {
          "base_uri": "https://localhost:8080/",
          "height": 36
        },
        "id": "2sgJqXWxsfOA",
        "outputId": "7c72f03a-29b3-4179-9587-460adf50b778"
      },
      "execution_count": null,
      "outputs": [
        {
          "output_type": "execute_result",
          "data": {
            "text/plain": [
              "'This is a heading.'"
            ],
            "application/vnd.google.colaboratory.intrinsic+json": {
              "type": "string"
            }
          },
          "metadata": {},
          "execution_count": 11
        }
      ]
    },
    {
      "cell_type": "code",
      "source": [
        "soup.find('h1').string #괄호 없음 : 속성"
      ],
      "metadata": {
        "colab": {
          "base_uri": "https://localhost:8080/",
          "height": 36
        },
        "id": "_fQ2IeUqs7UQ",
        "outputId": "d56f6040-48ab-4a02-a566-11f12aaa065e"
      },
      "execution_count": null,
      "outputs": [
        {
          "output_type": "execute_result",
          "data": {
            "text/plain": [
              "'This is a heading.'"
            ],
            "application/vnd.google.colaboratory.intrinsic+json": {
              "type": "string"
            }
          },
          "metadata": {},
          "execution_count": 12
        }
      ]
    },
    {
      "cell_type": "code",
      "source": [
        "soup.find('a').get_text()"
      ],
      "metadata": {
        "colab": {
          "base_uri": "https://localhost:8080/",
          "height": 36
        },
        "id": "lUvSVQTftYu8",
        "outputId": "c4b67890-5dac-4cb3-8338-1d55e8075321"
      },
      "execution_count": null,
      "outputs": [
        {
          "output_type": "execute_result",
          "data": {
            "text/plain": [
              "'Naver'"
            ],
            "application/vnd.google.colaboratory.intrinsic+json": {
              "type": "string"
            }
          },
          "metadata": {},
          "execution_count": 13
        }
      ]
    },
    {
      "cell_type": "code",
      "source": [
        "#속성값\n",
        "soup.find('a')['href']"
      ],
      "metadata": {
        "colab": {
          "base_uri": "https://localhost:8080/",
          "height": 36
        },
        "id": "tF_MjlOltocp",
        "outputId": "3757e856-fca1-4d0e-de54-224ed2bd4517"
      },
      "execution_count": null,
      "outputs": [
        {
          "output_type": "execute_result",
          "data": {
            "text/plain": [
              "'www.naver.com'"
            ],
            "application/vnd.google.colaboratory.intrinsic+json": {
              "type": "string"
            }
          },
          "metadata": {},
          "execution_count": 14
        }
      ]
    },
    {
      "cell_type": "code",
      "source": [
        ""
      ],
      "metadata": {
        "id": "WfDRVZoAtv5i"
      },
      "execution_count": null,
      "outputs": []
    }
  ]
}