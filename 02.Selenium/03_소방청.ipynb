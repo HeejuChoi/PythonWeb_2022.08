{
  "nbformat": 4,
  "nbformat_minor": 0,
  "metadata": {
    "colab": {
      "name": "03_소방청.ipynb",
      "provenance": [],
      "collapsed_sections": []
    },
    "kernelspec": {
      "name": "python3",
      "display_name": "Python 3"
    },
    "language_info": {
      "name": "python"
    }
  },
  "cells": [
    {
      "cell_type": "markdown",
      "source": [
        "# 소방청 - 광주지역 검색"
      ],
      "metadata": {
        "id": "6UsvEGZrWdc0"
      }
    },
    {
      "cell_type": "code",
      "source": [
        "!apt-get update > /dev/null 2>&1\n",
        "!pip install selenium > /dev/null 2>&1\n",
        "!apt install chromium-chromedriver > /dev/null 2>&1"
      ],
      "metadata": {
        "id": "U0Z9AmAUYnai"
      },
      "execution_count": 100,
      "outputs": []
    },
    {
      "cell_type": "code",
      "execution_count": 101,
      "metadata": {
        "id": "ZIr7VhYlWW0-"
      },
      "outputs": [],
      "source": [
        "import time\n",
        "from selenium import webdriver\n",
        "from selenium.webdriver.common.keys import Keys\n",
        "from selenium.webdriver.common.by import By\n",
        "import pandas as pd\n",
        "from bs4 import BeautifulSoup"
      ]
    },
    {
      "cell_type": "code",
      "source": [
        "options = webdriver.ChromeOptions()\n",
        "options.add_argument('--headless') # 화면없이 실행\n",
        "options.add_argument('--no-sandbox')\n",
        "options.add_argument('--single-process')\n",
        "options.add_argument('--disable-dev-shm-usage')\n",
        "driver = webdriver.Chrome('chromedriver', options=options)"
      ],
      "metadata": {
        "id": "uLBCKLJTZLK9"
      },
      "execution_count": 102,
      "outputs": []
    },
    {
      "cell_type": "code",
      "source": [
        "import warnings\n",
        "warnings.filterwarnings('ignore')"
      ],
      "metadata": {
        "id": "JeSqBVL7YbeD"
      },
      "execution_count": 103,
      "outputs": []
    },
    {
      "cell_type": "code",
      "source": [
        "url = 'https://www.nfa.go.kr/nfa/introduce/status/firestationidfo/?searchDistance=10&searchMode=distance&myX=35.1493479&myY=126.9218479&searchKeyword='\n",
        "driver.get(url)"
      ],
      "metadata": {
        "id": "3pO_hwfyWqkm"
      },
      "execution_count": 104,
      "outputs": []
    },
    {
      "cell_type": "code",
      "source": [
        "# 입력창에 광주광역시를 입력하고 검색버튼을 누르는 동작\n",
        "driver.find_element(By.ID, 'searchKeyword').send_keys('광주광역시')\n",
        "driver.find_element(By.ID, 'fsSearchBtn').click()"
      ],
      "metadata": {
        "id": "cQ8UHV1DaFXu"
      },
      "execution_count": 105,
      "outputs": []
    },
    {
      "cell_type": "markdown",
      "source": [
        "### 이동 후에는 BeautifulSoup 이용하여 정보를 획득"
      ],
      "metadata": {
        "id": "fNvRX_j6brVS"
      }
    },
    {
      "cell_type": "code",
      "source": [
        "soup = BeautifulSoup(driver.page_source, 'html.parser')\n",
        "lis = soup.select('.stations-list > li') #클래스니까 꼭 . 붙이기\n",
        "len(lis)"
      ],
      "metadata": {
        "colab": {
          "base_uri": "https://localhost:8080/"
        },
        "id": "U688WsQaanoq",
        "outputId": "384cccb0-1103-4964-f284-fe441e11898b"
      },
      "execution_count": 106,
      "outputs": [
        {
          "output_type": "execute_result",
          "data": {
            "text/plain": [
              "10"
            ]
          },
          "metadata": {},
          "execution_count": 106
        }
      ]
    },
    {
      "cell_type": "code",
      "source": [
        "li = lis[0]\n",
        "name = li.select_one('.title').get_text().strip()\n",
        "name"
      ],
      "metadata": {
        "colab": {
          "base_uri": "https://localhost:8080/",
          "height": 36
        },
        "id": "UIDnb0mibqaq",
        "outputId": "e5f60711-b906-4122-fecf-c4838eb6cc95"
      },
      "execution_count": 107,
      "outputs": [
        {
          "output_type": "execute_result",
          "data": {
            "text/plain": [
              "'광산소방서_광주-평동-119 안전센터'"
            ],
            "application/vnd.google.colaboratory.intrinsic+json": {
              "type": "string"
            }
          },
          "metadata": {},
          "execution_count": 107
        }
      ]
    },
    {
      "cell_type": "code",
      "source": [
        "addr = li.find('address').string.strip()\n",
        "addr"
      ],
      "metadata": {
        "colab": {
          "base_uri": "https://localhost:8080/",
          "height": 36
        },
        "id": "w4OdbL61d0EN",
        "outputId": "63d60d80-ef81-439c-b9c4-1fa1a741f0d5"
      },
      "execution_count": 108,
      "outputs": [
        {
          "output_type": "execute_result",
          "data": {
            "text/plain": [
              "'광주광역시 광산구 월전동 1251'"
            ],
            "application/vnd.google.colaboratory.intrinsic+json": {
              "type": "string"
            }
          },
          "metadata": {},
          "execution_count": 108
        }
      ]
    },
    {
      "cell_type": "code",
      "source": [
        "tel = li.select_one('.tel').get_text().strip()\n",
        "tel"
      ],
      "metadata": {
        "colab": {
          "base_uri": "https://localhost:8080/",
          "height": 36
        },
        "id": "gLceOcmdeK06",
        "outputId": "b02f9677-58cb-42c3-8eeb-cb1af7167949"
      },
      "execution_count": 109,
      "outputs": [
        {
          "output_type": "execute_result",
          "data": {
            "text/plain": [
              "'전화공사중'"
            ],
            "application/vnd.google.colaboratory.intrinsic+json": {
              "type": "string"
            }
          },
          "metadata": {},
          "execution_count": 109
        }
      ]
    },
    {
      "cell_type": "code",
      "source": [
        "lines = []\n",
        "for li in lis:\n",
        "  name = li.select_one('.title').get_text().strip()\n",
        "  addr = li.find('address').string.strip()\n",
        "  tel = li.select_one('.tel').get_text().strip()\n",
        "  lines.append([name, addr, tel])"
      ],
      "metadata": {
        "id": "DHHRznvQeRAB"
      },
      "execution_count": 110,
      "outputs": []
    },
    {
      "cell_type": "markdown",
      "source": [
        "### 2페이지로 이동"
      ],
      "metadata": {
        "id": "rqBQYQn6ecr6"
      }
    },
    {
      "cell_type": "code",
      "source": [
        "# 2쪽 부분에 copy Xpath\n",
        "# 화면이 바뀜 \n",
        "driver.find_element(By.XPATH, '//*[@id=\"listForm\"]/div/section/ul/li[1]/div/div/ul/li[4]/a').click()"
      ],
      "metadata": {
        "id": "CetQbAn7ecKJ"
      },
      "execution_count": 111,
      "outputs": []
    },
    {
      "cell_type": "code",
      "source": [
        "# 페이지 이동 후 정보 가져오기 \n",
        "soup = BeautifulSoup(driver.page_source, 'html.parser')\n",
        "lis = soup.select('.stations-list > li') #클래스니까 꼭 . 붙이기\n",
        "len(lis)"
      ],
      "metadata": {
        "colab": {
          "base_uri": "https://localhost:8080/"
        },
        "id": "5FC7Ih5LfFKL",
        "outputId": "1e5444c4-17bd-4f32-c204-65ce2d845a05"
      },
      "execution_count": 112,
      "outputs": [
        {
          "output_type": "execute_result",
          "data": {
            "text/plain": [
              "10"
            ]
          },
          "metadata": {},
          "execution_count": 112
        }
      ]
    },
    {
      "cell_type": "markdown",
      "source": [
        "### 다음페이지로 이동"
      ],
      "metadata": {
        "id": "GL48aNCofioC"
      }
    },
    {
      "cell_type": "code",
      "source": [
        "driver.find_element(By.CSS_SELECTOR, '.next_page').click()"
      ],
      "metadata": {
        "id": "P5kqXudYfz1i"
      },
      "execution_count": 113,
      "outputs": []
    },
    {
      "cell_type": "markdown",
      "source": [
        "### 전체"
      ],
      "metadata": {
        "id": "utzqKyhtgeT_"
      }
    },
    {
      "cell_type": "code",
      "source": [
        "# 검색결과 건수 획득\n",
        "strongs = soup.select('.stations-local-after > p > strong')\n",
        "strongs[1].get_text()"
      ],
      "metadata": {
        "colab": {
          "base_uri": "https://localhost:8080/",
          "height": 36
        },
        "id": "dBWRBp9AgL_e",
        "outputId": "50cbd3b2-b207-4d8c-d5c8-8cf7e7f9f607"
      },
      "execution_count": 114,
      "outputs": [
        {
          "output_type": "execute_result",
          "data": {
            "text/plain": [
              "'29건'"
            ],
            "application/vnd.google.colaboratory.intrinsic+json": {
              "type": "string"
            }
          },
          "metadata": {},
          "execution_count": 114
        }
      ]
    },
    {
      "cell_type": "code",
      "source": [
        "count = int(strongs[1].get_text().replace('건','').strip())\n",
        "count\n"
      ],
      "metadata": {
        "colab": {
          "base_uri": "https://localhost:8080/"
        },
        "id": "CSLmC5LbjTRv",
        "outputId": "2e051f3a-2650-479d-9dff-469385a8c250"
      },
      "execution_count": 115,
      "outputs": [
        {
          "output_type": "execute_result",
          "data": {
            "text/plain": [
              "29"
            ]
          },
          "metadata": {},
          "execution_count": 115
        }
      ]
    },
    {
      "cell_type": "code",
      "source": [
        "#루프를 3번 돈다 (10개씩 돌아서?)\n",
        "import math\n",
        "count = math.ceil(count / 10)\n",
        "count"
      ],
      "metadata": {
        "colab": {
          "base_uri": "https://localhost:8080/"
        },
        "id": "AWgz8FSxje4g",
        "outputId": "65f29acd-a451-4abc-8a50-543456bbe99d"
      },
      "execution_count": 116,
      "outputs": [
        {
          "output_type": "execute_result",
          "data": {
            "text/plain": [
              "3"
            ]
          },
          "metadata": {},
          "execution_count": 116
        }
      ]
    },
    {
      "cell_type": "markdown",
      "source": [
        "### 최종 코드"
      ],
      "metadata": {
        "id": "vRFLys_0nFLA"
      }
    },
    {
      "cell_type": "code",
      "source": [
        "# 원래의 위치로 만들기\n",
        "driver.get(url)\n",
        "time.sleep\n",
        "driver.find_element(By.ID, 'searchKeyword').send_keys('광주광역시')\n",
        "driver.find_element(By.ID, 'fsSearchBtn').click()"
      ],
      "metadata": {
        "id": "QsK_nn3rkLwo"
      },
      "execution_count": 117,
      "outputs": []
    },
    {
      "cell_type": "code",
      "source": [
        "strongs = soup.select('.stations-local-after > p > strong')\n",
        "count = int(strongs[1].get_text().replace('건','').strip())\n",
        "count = math.ceil(count / 10)"
      ],
      "metadata": {
        "id": "XExFXn1mmuTu"
      },
      "execution_count": 118,
      "outputs": []
    },
    {
      "cell_type": "code",
      "source": [
        "lines = []\n",
        "for i in range(count):\n",
        "    if i >=1 and i%2 ==0:\n",
        "        driver.find_element(By.CSS_SELECTOR, '.next_page').click()\n",
        "        time.sleep(2) #이동을 하고 나서 약간의 시간을 줘야함\n",
        "    if i >=1 and i%1 ==1:\n",
        "        driver.find_element(By.XPATH, '//*[@id=\"listForm\"]/div/section/ul/li[1]/div/div/ul/li[4]/a').click()\n",
        "        time.sleep(2)    \n",
        "\n",
        "    soup = BeautifulSoup(driver.page_source, 'html.parser')\n",
        "    lis = soup.select('.stations-list > li') #클래스니까 꼭 . 붙이기\n",
        "    for li in lis:\n",
        "        name = li.select_one('.title').get_text().strip()\n",
        "        addr = li.find('address').string.strip()\n",
        "        tel = li.select_one('.tel').get_text().strip()\n",
        "        lines.append([name, addr, tel])"
      ],
      "metadata": {
        "id": "oFvpj3HBjtg3"
      },
      "execution_count": 119,
      "outputs": []
    },
    {
      "cell_type": "code",
      "source": [
        "len(lines)"
      ],
      "metadata": {
        "colab": {
          "base_uri": "https://localhost:8080/"
        },
        "id": "zNuDJGVRlVtP",
        "outputId": "264c846a-05cf-4e69-afff-36176cc7f867"
      },
      "execution_count": 120,
      "outputs": [
        {
          "output_type": "execute_result",
          "data": {
            "text/plain": [
              "29"
            ]
          },
          "metadata": {},
          "execution_count": 120
        }
      ]
    },
    {
      "cell_type": "code",
      "source": [
        "driver.close()"
      ],
      "metadata": {
        "id": "jib_yxr8la8-"
      },
      "execution_count": 121,
      "outputs": []
    },
    {
      "cell_type": "code",
      "source": [
        "df = pd.DataFrame(lines, columns=['관서명','주소','전화번호'])\n",
        "df.tail()"
      ],
      "metadata": {
        "colab": {
          "base_uri": "https://localhost:8080/",
          "height": 206
        },
        "id": "cb-KOgOUlcrv",
        "outputId": "f636cfcb-32cb-4d2e-f47e-cc0ddea50490"
      },
      "execution_count": 123,
      "outputs": [
        {
          "output_type": "execute_result",
          "data": {
            "text/plain": [
              "      관서명                         주소          전화번호\n",
              "24  광산소방서  광주광역시 광산구 하남산단1번로 13(하남동)  062-613-8813\n",
              "25  남부소방서   광주광역시 남구 송암로58번길 13(송하동)  062-613-8613\n",
              "26  동부소방서      광주광역시 동구 제봉로 210(대인동)  062-613-8413\n",
              "27  북부소방서      광주광역시 북구 서하로 290(오치동)  062-613-8713\n",
              "28  서부소방서      광주광역시 서구 화운로 197(화정동)  062-613-8513"
            ],
            "text/html": [
              "\n",
              "  <div id=\"df-3bf00cd7-41ba-4dcb-877a-008c13a03a92\">\n",
              "    <div class=\"colab-df-container\">\n",
              "      <div>\n",
              "<style scoped>\n",
              "    .dataframe tbody tr th:only-of-type {\n",
              "        vertical-align: middle;\n",
              "    }\n",
              "\n",
              "    .dataframe tbody tr th {\n",
              "        vertical-align: top;\n",
              "    }\n",
              "\n",
              "    .dataframe thead th {\n",
              "        text-align: right;\n",
              "    }\n",
              "</style>\n",
              "<table border=\"1\" class=\"dataframe\">\n",
              "  <thead>\n",
              "    <tr style=\"text-align: right;\">\n",
              "      <th></th>\n",
              "      <th>관서명</th>\n",
              "      <th>주소</th>\n",
              "      <th>전화번호</th>\n",
              "    </tr>\n",
              "  </thead>\n",
              "  <tbody>\n",
              "    <tr>\n",
              "      <th>24</th>\n",
              "      <td>광산소방서</td>\n",
              "      <td>광주광역시 광산구 하남산단1번로 13(하남동)</td>\n",
              "      <td>062-613-8813</td>\n",
              "    </tr>\n",
              "    <tr>\n",
              "      <th>25</th>\n",
              "      <td>남부소방서</td>\n",
              "      <td>광주광역시 남구 송암로58번길 13(송하동)</td>\n",
              "      <td>062-613-8613</td>\n",
              "    </tr>\n",
              "    <tr>\n",
              "      <th>26</th>\n",
              "      <td>동부소방서</td>\n",
              "      <td>광주광역시 동구 제봉로 210(대인동)</td>\n",
              "      <td>062-613-8413</td>\n",
              "    </tr>\n",
              "    <tr>\n",
              "      <th>27</th>\n",
              "      <td>북부소방서</td>\n",
              "      <td>광주광역시 북구 서하로 290(오치동)</td>\n",
              "      <td>062-613-8713</td>\n",
              "    </tr>\n",
              "    <tr>\n",
              "      <th>28</th>\n",
              "      <td>서부소방서</td>\n",
              "      <td>광주광역시 서구 화운로 197(화정동)</td>\n",
              "      <td>062-613-8513</td>\n",
              "    </tr>\n",
              "  </tbody>\n",
              "</table>\n",
              "</div>\n",
              "      <button class=\"colab-df-convert\" onclick=\"convertToInteractive('df-3bf00cd7-41ba-4dcb-877a-008c13a03a92')\"\n",
              "              title=\"Convert this dataframe to an interactive table.\"\n",
              "              style=\"display:none;\">\n",
              "        \n",
              "  <svg xmlns=\"http://www.w3.org/2000/svg\" height=\"24px\"viewBox=\"0 0 24 24\"\n",
              "       width=\"24px\">\n",
              "    <path d=\"M0 0h24v24H0V0z\" fill=\"none\"/>\n",
              "    <path d=\"M18.56 5.44l.94 2.06.94-2.06 2.06-.94-2.06-.94-.94-2.06-.94 2.06-2.06.94zm-11 1L8.5 8.5l.94-2.06 2.06-.94-2.06-.94L8.5 2.5l-.94 2.06-2.06.94zm10 10l.94 2.06.94-2.06 2.06-.94-2.06-.94-.94-2.06-.94 2.06-2.06.94z\"/><path d=\"M17.41 7.96l-1.37-1.37c-.4-.4-.92-.59-1.43-.59-.52 0-1.04.2-1.43.59L10.3 9.45l-7.72 7.72c-.78.78-.78 2.05 0 2.83L4 21.41c.39.39.9.59 1.41.59.51 0 1.02-.2 1.41-.59l7.78-7.78 2.81-2.81c.8-.78.8-2.07 0-2.86zM5.41 20L4 18.59l7.72-7.72 1.47 1.35L5.41 20z\"/>\n",
              "  </svg>\n",
              "      </button>\n",
              "      \n",
              "  <style>\n",
              "    .colab-df-container {\n",
              "      display:flex;\n",
              "      flex-wrap:wrap;\n",
              "      gap: 12px;\n",
              "    }\n",
              "\n",
              "    .colab-df-convert {\n",
              "      background-color: #E8F0FE;\n",
              "      border: none;\n",
              "      border-radius: 50%;\n",
              "      cursor: pointer;\n",
              "      display: none;\n",
              "      fill: #1967D2;\n",
              "      height: 32px;\n",
              "      padding: 0 0 0 0;\n",
              "      width: 32px;\n",
              "    }\n",
              "\n",
              "    .colab-df-convert:hover {\n",
              "      background-color: #E2EBFA;\n",
              "      box-shadow: 0px 1px 2px rgba(60, 64, 67, 0.3), 0px 1px 3px 1px rgba(60, 64, 67, 0.15);\n",
              "      fill: #174EA6;\n",
              "    }\n",
              "\n",
              "    [theme=dark] .colab-df-convert {\n",
              "      background-color: #3B4455;\n",
              "      fill: #D2E3FC;\n",
              "    }\n",
              "\n",
              "    [theme=dark] .colab-df-convert:hover {\n",
              "      background-color: #434B5C;\n",
              "      box-shadow: 0px 1px 3px 1px rgba(0, 0, 0, 0.15);\n",
              "      filter: drop-shadow(0px 1px 2px rgba(0, 0, 0, 0.3));\n",
              "      fill: #FFFFFF;\n",
              "    }\n",
              "  </style>\n",
              "\n",
              "      <script>\n",
              "        const buttonEl =\n",
              "          document.querySelector('#df-3bf00cd7-41ba-4dcb-877a-008c13a03a92 button.colab-df-convert');\n",
              "        buttonEl.style.display =\n",
              "          google.colab.kernel.accessAllowed ? 'block' : 'none';\n",
              "\n",
              "        async function convertToInteractive(key) {\n",
              "          const element = document.querySelector('#df-3bf00cd7-41ba-4dcb-877a-008c13a03a92');\n",
              "          const dataTable =\n",
              "            await google.colab.kernel.invokeFunction('convertToInteractive',\n",
              "                                                     [key], {});\n",
              "          if (!dataTable) return;\n",
              "\n",
              "          const docLinkHtml = 'Like what you see? Visit the ' +\n",
              "            '<a target=\"_blank\" href=https://colab.research.google.com/notebooks/data_table.ipynb>data table notebook</a>'\n",
              "            + ' to learn more about interactive tables.';\n",
              "          element.innerHTML = '';\n",
              "          dataTable['output_type'] = 'display_data';\n",
              "          await google.colab.output.renderOutput(dataTable, element);\n",
              "          const docLink = document.createElement('div');\n",
              "          docLink.innerHTML = docLinkHtml;\n",
              "          element.appendChild(docLink);\n",
              "        }\n",
              "      </script>\n",
              "    </div>\n",
              "  </div>\n",
              "  "
            ]
          },
          "metadata": {},
          "execution_count": 123
        }
      ]
    }
  ]
}