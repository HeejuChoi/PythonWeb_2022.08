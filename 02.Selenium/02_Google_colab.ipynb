{
  "nbformat": 4,
  "nbformat_minor": 0,
  "metadata": {
    "colab": {
      "name": "02_Google_colab.ipynb",
      "provenance": [],
      "collapsed_sections": []
    },
    "kernelspec": {
      "name": "python3",
      "display_name": "Python 3"
    },
    "language_info": {
      "name": "python"
    }
  },
  "cells": [
    {
      "cell_type": "markdown",
      "source": [
        "# Google 크롤링 - ChromeDriver 검색"
      ],
      "metadata": {
        "id": "2Gn5JjD-ED1Z"
      }
    },
    {
      "cell_type": "code",
      "execution_count": 45,
      "metadata": {
        "id": "pVmEG3LaD-xh"
      },
      "outputs": [],
      "source": [
        "!apt-get update > /dev/null 2>&1\n",
        "!pip install selenium > /dev/null 2>&1\n",
        "!apt install chromium-chromedriver > /dev/null 2>&1"
      ]
    },
    {
      "cell_type": "code",
      "source": [
        "import time\n",
        "from selenium import webdriver\n",
        "from selenium.webdriver.common.keys import Keys\n",
        "from selenium.webdriver.common.by import By"
      ],
      "metadata": {
        "id": "IHOECWPOIaeY"
      },
      "execution_count": 46,
      "outputs": []
    },
    {
      "cell_type": "code",
      "source": [
        "options = webdriver.ChromeOptions()\n",
        "options.add_argument('--headless') # 화면없이 실행\n",
        "options.add_argument('--no-sandbox')\n",
        "options.add_argument('--single-process')\n",
        "options.add_argument('--disable-dev-shm-usage')\n",
        "driver = webdriver.Chrome('chromedriver', options=options)"
      ],
      "metadata": {
        "id": "nNYlgZAsJS7F"
      },
      "execution_count": 47,
      "outputs": []
    },
    {
      "cell_type": "code",
      "source": [
        "url = 'https://www.google.co.kr'\n",
        "driver.get(url)"
      ],
      "metadata": {
        "id": "a8IQiZqmJWR3"
      },
      "execution_count": 48,
      "outputs": []
    },
    {
      "cell_type": "code",
      "source": [
        "search_box = driver.find_element(by=By.NAME, value='q')\n",
        "search_box.send_keys('ChromeDriver')\n",
        "search_box.send_keys(Keys.ENTER)\n",
        "time.sleep(2)"
      ],
      "metadata": {
        "id": "APiJMpJ8Mhw4"
      },
      "execution_count": 49,
      "outputs": []
    },
    {
      "cell_type": "code",
      "source": [
        "divs = driver.find_elements(By.CSS_SELECTOR, '#search .g')\n",
        "len(divs)"
      ],
      "metadata": {
        "colab": {
          "base_uri": "https://localhost:8080/"
        },
        "id": "emOGdLCbOGce",
        "outputId": "685a8b27-53fa-41e3-cf2d-805ec62f029f"
      },
      "execution_count": 50,
      "outputs": [
        {
          "output_type": "execute_result",
          "data": {
            "text/plain": [
              "12"
            ]
          },
          "metadata": {},
          "execution_count": 50
        }
      ]
    },
    {
      "cell_type": "code",
      "source": [
        "div = divs[0]\n",
        "title = div.find_element(By.CSS_SELECTOR, '.LC20lb.MBeuO.DKV0Md').text\n",
        "title"
      ],
      "metadata": {
        "colab": {
          "base_uri": "https://localhost:8080/",
          "height": 36
        },
        "id": "NjvjGfLtOd10",
        "outputId": "16aed653-ff9e-4fb6-d533-7007e8417d18"
      },
      "execution_count": 51,
      "outputs": [
        {
          "output_type": "execute_result",
          "data": {
            "text/plain": [
              "'ChromeDriver - WebDriver for Chrome - Downloads'"
            ],
            "application/vnd.google.colaboratory.intrinsic+json": {
              "type": "string"
            }
          },
          "metadata": {},
          "execution_count": 51
        }
      ]
    },
    {
      "cell_type": "code",
      "source": [
        "content = div.find_element(By.CSS_SELECTOR, '.VwiC3b.yXK7lf.MUxGbd').text.strip()\n",
        "content"
      ],
      "metadata": {
        "colab": {
          "base_uri": "https://localhost:8080/",
          "height": 36
        },
        "id": "SdOaKNdiPxhV",
        "outputId": "97cd54c7-e817-4249-a776-338e81748e42"
      },
      "execution_count": 52,
      "outputs": [
        {
          "output_type": "execute_result",
          "data": {
            "text/plain": [
              "'Current Releases · ChromeDriver 105.0.5195.19 · Supports Chrome version 10 · For more details, please see the · ChromeDriver 104.0.5112.79 · Supports Chrome version ...'"
            ],
            "application/vnd.google.colaboratory.intrinsic+json": {
              "type": "string"
            }
          },
          "metadata": {},
          "execution_count": 52
        }
      ]
    },
    {
      "cell_type": "code",
      "source": [
        "lines = []\n",
        "for div in divs:\n",
        "  try:\n",
        "      title = div.find_element(By.CSS_SELECTOR, '.iUh30.qLRx3b.tjvcx').text.strip()\n",
        "      content = div.find_element(By.CSS_SELECTOR, '.OjFzvd.Z26q7c.UK95Uc.uUuwM').text.strip()\n",
        "  except:\n",
        "    continue\n",
        "  lines.append([title, content])"
      ],
      "metadata": {
        "id": "D0RolM_mQbJd"
      },
      "execution_count": 53,
      "outputs": []
    },
    {
      "cell_type": "code",
      "source": [
        "lines"
      ],
      "metadata": {
        "colab": {
          "base_uri": "https://localhost:8080/"
        },
        "id": "dgUjY9zSRVDV",
        "outputId": "dd08e3cf-020e-40e8-b562-f99173999b15"
      },
      "execution_count": 54,
      "outputs": [
        {
          "output_type": "execute_result",
          "data": {
            "text/plain": [
              "[['https://chromedriver.chromium.org › downloads',\n",
              "  'ChromeDriver - WebDriver for Chrome - Downloads\\nhttps://chromedriver.chromium.org › downloads'],\n",
              " ['https://sites.google.com › chromium.org › getting-started',\n",
              "  'Getting started - ChromeDriver - WebDriver for Chrome\\nhttps://sites.google.com › chromium.org › getting-started'],\n",
              " ['https://github.com › SeleniumHQ › wiki › ChromeDriver',\n",
              "  'ChromeDriver · SeleniumHQ/selenium Wiki - GitHub\\nhttps://github.com › SeleniumHQ › wiki › ChromeDriver'],\n",
              " ['https://www.selenium.dev › webdriver › getting_started',\n",
              "  'Install browser drivers - Selenium\\nhttps://www.selenium.dev › webdriver › getting_started'],\n",
              " ['https://www.npmjs.com › package › chromedriver',\n",
              "  'chromedriver - npm\\nhttps://www.npmjs.com › package › chromedriver'],\n",
              " ['https://www.browserstack.com › Guide',\n",
              "  'How to run Selenium tests on Chrome using ChromeDriver\\nhttps://www.browserstack.com › Guide'],\n",
              " ['https://www.nuget.org › packages › Selenium.WebDriv...',\n",
              "  'Selenium.WebDriver.ChromeDriver 104.0.5112.7900 - NuGet\\nhttps://www.nuget.org › packages › Selenium.WebDriv...']]"
            ]
          },
          "metadata": {},
          "execution_count": 54
        }
      ]
    },
    {
      "cell_type": "code",
      "source": [
        "import pandas as pd\n",
        "df = pd.DataFrame(lines, columns=['title', 'content'])\n",
        "df"
      ],
      "metadata": {
        "colab": {
          "base_uri": "https://localhost:8080/",
          "height": 269
        },
        "id": "2C6mduAYRTqt",
        "outputId": "bf4bf7d8-b05d-4ecb-9a59-35f053e54aea"
      },
      "execution_count": 55,
      "outputs": [
        {
          "output_type": "execute_result",
          "data": {
            "text/plain": [
              "                                               title  \\\n",
              "0      https://chromedriver.chromium.org › downloads   \n",
              "1  https://sites.google.com › chromium.org › gett...   \n",
              "2  https://github.com › SeleniumHQ › wiki › Chrom...   \n",
              "3  https://www.selenium.dev › webdriver › getting...   \n",
              "4     https://www.npmjs.com › package › chromedriver   \n",
              "5               https://www.browserstack.com › Guide   \n",
              "6  https://www.nuget.org › packages › Selenium.We...   \n",
              "\n",
              "                                             content  \n",
              "0  ChromeDriver - WebDriver for Chrome - Download...  \n",
              "1  Getting started - ChromeDriver - WebDriver for...  \n",
              "2  ChromeDriver · SeleniumHQ/selenium Wiki - GitH...  \n",
              "3  Install browser drivers - Selenium\\nhttps://ww...  \n",
              "4  chromedriver - npm\\nhttps://www.npmjs.com › pa...  \n",
              "5  How to run Selenium tests on Chrome using Chro...  \n",
              "6  Selenium.WebDriver.ChromeDriver 104.0.5112.790...  "
            ],
            "text/html": [
              "\n",
              "  <div id=\"df-9d66f05e-6e1c-48d6-aae5-31adc03d156a\">\n",
              "    <div class=\"colab-df-container\">\n",
              "      <div>\n",
              "<style scoped>\n",
              "    .dataframe tbody tr th:only-of-type {\n",
              "        vertical-align: middle;\n",
              "    }\n",
              "\n",
              "    .dataframe tbody tr th {\n",
              "        vertical-align: top;\n",
              "    }\n",
              "\n",
              "    .dataframe thead th {\n",
              "        text-align: right;\n",
              "    }\n",
              "</style>\n",
              "<table border=\"1\" class=\"dataframe\">\n",
              "  <thead>\n",
              "    <tr style=\"text-align: right;\">\n",
              "      <th></th>\n",
              "      <th>title</th>\n",
              "      <th>content</th>\n",
              "    </tr>\n",
              "  </thead>\n",
              "  <tbody>\n",
              "    <tr>\n",
              "      <th>0</th>\n",
              "      <td>https://chromedriver.chromium.org › downloads</td>\n",
              "      <td>ChromeDriver - WebDriver for Chrome - Download...</td>\n",
              "    </tr>\n",
              "    <tr>\n",
              "      <th>1</th>\n",
              "      <td>https://sites.google.com › chromium.org › gett...</td>\n",
              "      <td>Getting started - ChromeDriver - WebDriver for...</td>\n",
              "    </tr>\n",
              "    <tr>\n",
              "      <th>2</th>\n",
              "      <td>https://github.com › SeleniumHQ › wiki › Chrom...</td>\n",
              "      <td>ChromeDriver · SeleniumHQ/selenium Wiki - GitH...</td>\n",
              "    </tr>\n",
              "    <tr>\n",
              "      <th>3</th>\n",
              "      <td>https://www.selenium.dev › webdriver › getting...</td>\n",
              "      <td>Install browser drivers - Selenium\\nhttps://ww...</td>\n",
              "    </tr>\n",
              "    <tr>\n",
              "      <th>4</th>\n",
              "      <td>https://www.npmjs.com › package › chromedriver</td>\n",
              "      <td>chromedriver - npm\\nhttps://www.npmjs.com › pa...</td>\n",
              "    </tr>\n",
              "    <tr>\n",
              "      <th>5</th>\n",
              "      <td>https://www.browserstack.com › Guide</td>\n",
              "      <td>How to run Selenium tests on Chrome using Chro...</td>\n",
              "    </tr>\n",
              "    <tr>\n",
              "      <th>6</th>\n",
              "      <td>https://www.nuget.org › packages › Selenium.We...</td>\n",
              "      <td>Selenium.WebDriver.ChromeDriver 104.0.5112.790...</td>\n",
              "    </tr>\n",
              "  </tbody>\n",
              "</table>\n",
              "</div>\n",
              "      <button class=\"colab-df-convert\" onclick=\"convertToInteractive('df-9d66f05e-6e1c-48d6-aae5-31adc03d156a')\"\n",
              "              title=\"Convert this dataframe to an interactive table.\"\n",
              "              style=\"display:none;\">\n",
              "        \n",
              "  <svg xmlns=\"http://www.w3.org/2000/svg\" height=\"24px\"viewBox=\"0 0 24 24\"\n",
              "       width=\"24px\">\n",
              "    <path d=\"M0 0h24v24H0V0z\" fill=\"none\"/>\n",
              "    <path d=\"M18.56 5.44l.94 2.06.94-2.06 2.06-.94-2.06-.94-.94-2.06-.94 2.06-2.06.94zm-11 1L8.5 8.5l.94-2.06 2.06-.94-2.06-.94L8.5 2.5l-.94 2.06-2.06.94zm10 10l.94 2.06.94-2.06 2.06-.94-2.06-.94-.94-2.06-.94 2.06-2.06.94z\"/><path d=\"M17.41 7.96l-1.37-1.37c-.4-.4-.92-.59-1.43-.59-.52 0-1.04.2-1.43.59L10.3 9.45l-7.72 7.72c-.78.78-.78 2.05 0 2.83L4 21.41c.39.39.9.59 1.41.59.51 0 1.02-.2 1.41-.59l7.78-7.78 2.81-2.81c.8-.78.8-2.07 0-2.86zM5.41 20L4 18.59l7.72-7.72 1.47 1.35L5.41 20z\"/>\n",
              "  </svg>\n",
              "      </button>\n",
              "      \n",
              "  <style>\n",
              "    .colab-df-container {\n",
              "      display:flex;\n",
              "      flex-wrap:wrap;\n",
              "      gap: 12px;\n",
              "    }\n",
              "\n",
              "    .colab-df-convert {\n",
              "      background-color: #E8F0FE;\n",
              "      border: none;\n",
              "      border-radius: 50%;\n",
              "      cursor: pointer;\n",
              "      display: none;\n",
              "      fill: #1967D2;\n",
              "      height: 32px;\n",
              "      padding: 0 0 0 0;\n",
              "      width: 32px;\n",
              "    }\n",
              "\n",
              "    .colab-df-convert:hover {\n",
              "      background-color: #E2EBFA;\n",
              "      box-shadow: 0px 1px 2px rgba(60, 64, 67, 0.3), 0px 1px 3px 1px rgba(60, 64, 67, 0.15);\n",
              "      fill: #174EA6;\n",
              "    }\n",
              "\n",
              "    [theme=dark] .colab-df-convert {\n",
              "      background-color: #3B4455;\n",
              "      fill: #D2E3FC;\n",
              "    }\n",
              "\n",
              "    [theme=dark] .colab-df-convert:hover {\n",
              "      background-color: #434B5C;\n",
              "      box-shadow: 0px 1px 3px 1px rgba(0, 0, 0, 0.15);\n",
              "      filter: drop-shadow(0px 1px 2px rgba(0, 0, 0, 0.3));\n",
              "      fill: #FFFFFF;\n",
              "    }\n",
              "  </style>\n",
              "\n",
              "      <script>\n",
              "        const buttonEl =\n",
              "          document.querySelector('#df-9d66f05e-6e1c-48d6-aae5-31adc03d156a button.colab-df-convert');\n",
              "        buttonEl.style.display =\n",
              "          google.colab.kernel.accessAllowed ? 'block' : 'none';\n",
              "\n",
              "        async function convertToInteractive(key) {\n",
              "          const element = document.querySelector('#df-9d66f05e-6e1c-48d6-aae5-31adc03d156a');\n",
              "          const dataTable =\n",
              "            await google.colab.kernel.invokeFunction('convertToInteractive',\n",
              "                                                     [key], {});\n",
              "          if (!dataTable) return;\n",
              "\n",
              "          const docLinkHtml = 'Like what you see? Visit the ' +\n",
              "            '<a target=\"_blank\" href=https://colab.research.google.com/notebooks/data_table.ipynb>data table notebook</a>'\n",
              "            + ' to learn more about interactive tables.';\n",
              "          element.innerHTML = '';\n",
              "          dataTable['output_type'] = 'display_data';\n",
              "          await google.colab.output.renderOutput(dataTable, element);\n",
              "          const docLink = document.createElement('div');\n",
              "          docLink.innerHTML = docLinkHtml;\n",
              "          element.appendChild(docLink);\n",
              "        }\n",
              "      </script>\n",
              "    </div>\n",
              "  </div>\n",
              "  "
            ]
          },
          "metadata": {},
          "execution_count": 55
        }
      ]
    }
  ]
}