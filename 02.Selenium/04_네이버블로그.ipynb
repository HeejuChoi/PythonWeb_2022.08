{
  "nbformat": 4,
  "nbformat_minor": 0,
  "metadata": {
    "colab": {
      "name": "04_네이버블로그.ipynb",
      "provenance": [],
      "collapsed_sections": []
    },
    "kernelspec": {
      "name": "python3",
      "display_name": "Python 3"
    },
    "language_info": {
      "name": "python"
    }
  },
  "cells": [
    {
      "cell_type": "code",
      "execution_count": 18,
      "metadata": {
        "id": "l4_H4JzLrpw8"
      },
      "outputs": [],
      "source": [
        "!apt-get update > /dev/null 2>&1\n",
        "!pip install selenium > /dev/null 2>&1\n",
        "!apt install chromium-chromedriver > /dev/null 2>&1"
      ]
    },
    {
      "cell_type": "code",
      "source": [
        "import time\n",
        "from selenium import webdriver\n",
        "from selenium.webdriver.common.keys import Keys\n",
        "from selenium.webdriver.common.by import By\n",
        "import pandas as pd\n",
        "from bs4 import BeautifulSoup"
      ],
      "metadata": {
        "id": "vPCnGmHertx_"
      },
      "execution_count": 19,
      "outputs": []
    },
    {
      "cell_type": "code",
      "source": [
        "options = webdriver.ChromeOptions()\n",
        "options.add_argument('--headless') # 화면없이 실행\n",
        "options.add_argument('--no-sandbox')\n",
        "options.add_argument('--single-process')\n",
        "options.add_argument('--disable-dev-shm-usage')\n",
        "driver = webdriver.Chrome('chromedriver', options=options)"
      ],
      "metadata": {
        "id": "spmxuBgmrvrt"
      },
      "execution_count": 20,
      "outputs": []
    },
    {
      "cell_type": "code",
      "source": [
        "# url에 한글을 입력하고 싶으면 quote 입력\n",
        "from urllib.parse import quote\n",
        "\n",
        "base_url = 'https://search.naver.com/search.naver?where=nexearch&sm=top_hty&fbm=1&ie=utf8&'\n",
        "url = f\"{base_url}query={quote('스마트폰')}\"\n",
        "driver.get(url)\n",
        "time.sleep(1) # 이걸 넣어주지 않으면 결과나오기 전에 또 클릭을 하기 때문에 제대로 안나올 수 있다. "
      ],
      "metadata": {
        "id": "3gGY0H3orynt"
      },
      "execution_count": 21,
      "outputs": []
    },
    {
      "cell_type": "code",
      "source": [
        "# 결과 화면에서 VIEW click\n",
        "driver.find_element(By.XPATH, '//*[@id=\"lnb\"]/div[1]/div/ul/li[6]/a' ).click()\n",
        "time.sleep(1)"
      ],
      "metadata": {
        "id": "K1P1eQ_rsz_J"
      },
      "execution_count": 22,
      "outputs": []
    },
    {
      "cell_type": "code",
      "source": [
        "# Page down 화살표를 사용하여 데이터를 충분히 가져오는 과정\n",
        "body = driver.find_element(By.TAG_NAME, 'body')\n",
        "for i in range(30):\n",
        "    body.send_keys(Keys.PAGE_DOWN)\n",
        "    time.sleep(2)"
      ],
      "metadata": {
        "id": "LhwWcwJqtACv"
      },
      "execution_count": 23,
      "outputs": []
    },
    {
      "cell_type": "code",
      "source": [
        "soup = BeautifulSoup(driver.page_source, 'html.parser')\n",
        "driver.close()"
      ],
      "metadata": {
        "id": "EsqSLtm3tfIg"
      },
      "execution_count": 24,
      "outputs": []
    },
    {
      "cell_type": "code",
      "source": [
        ""
      ],
      "metadata": {
        "id": "KnTBlhAWuETc"
      },
      "execution_count": 24,
      "outputs": []
    }
  ]
}